{
 "cells": [
  {
   "cell_type": "markdown",
   "id": "5983df42",
   "metadata": {},
   "source": [
    "# Phase 2: Credit card approval prediction using machine learning models."
   ]
  },
  {
   "cell_type": "markdown",
   "id": "69aff8f1",
   "metadata": {},
   "source": [
    "### Group Name: Project Group 6\n",
    "Name(s) & ID(s) of Group Members: \n",
    "\n",
    "    Congcong Lin(s3523970) \n",
    "    Aishwarya Chandrasekaran(s3960631) \n",
    "    Tamanna (s3933981) "
   ]
  },
  {
   "cell_type": "markdown",
   "id": "07d1074d",
   "metadata": {},
   "source": [
    "## Table of contents\n",
    "\n",
    "+ Phase 1 summary\n",
    "\n",
    "+ Introduction of Phase 2 report\n",
    "\n",
    "+ Overview\n",
    "\n",
    "+ Methodology\n",
    "\n",
    "+ Data preprocessing\n",
    "\n",
    "+ Outlier handling\n",
    "\n",
    "+ Encoding categorical and target feature\n",
    "\n",
    "+ Scaling of features\n",
    "\n",
    "+ Feature selection using Random Forest Information\n",
    "\n",
    "+ Modelling and visulaization\n",
    "\n",
    "+ Performance Comparison\n",
    "\n",
    "+ Project summary\n",
    "\n",
    "+ Critique & Limitations\n",
    "\n",
    "+ Summary of key findings\n",
    "\n",
    "+ Conclusion\n",
    "\n",
    "+ References "
   ]
  },
  {
   "cell_type": "markdown",
   "id": "e890c2c3",
   "metadata": {},
   "source": [
    "## Phase 1 Summary\n",
    "\n",
    "Phase 1 report focuses on the data preparation, visualization, and analysis of the Credit Card Approvals dataset. The dataset contains information about customers who have applied for credit cards, with features such as gender, age, debt, marital status, employment status, credit score, and more. The objective is to conduct exploratory data analysis, including descriptive analysis and data visualization, to gain insights into the relationships within the dataset after data cleaning and preprocessing. \n",
    "\n",
    "The data cleaning and preprocessing section describes the steps taken to prepare the dataset for analysis. The process includes identifying and handling errors, such as incorrect data types and missing values. Duplicate values are checked, and necessary data type conversions are performed. Zero values in the income column are replaced with the mean income of the dataset. Outliers are detected and removed from columns such as age, debt, income, years employed, and credit score. \n",
    "\n",
    "Data visualization and exploration techniques are employed to gain insights into the dataset. The report includes one-variable plots, such as pie charts and bar plots, to visualize the distribution of features such as gender, marital status, prior history, and credit card approval. Two-variable plots, including scatter plots and bar plots, are used to explore relationships between features and credit card approval. Three-variable plots, such as bar plots, provide insights into the interactions among multiple features. \n",
    "\n",
    "The key findings include the observation that male applicants outnumbered female applicants, married applicants are more likely to apply for credit cards, applicants with prior history are slightly lower than non-defaulters, and the disapproval rate is higher than the approval rate. Insights are also provided regarding the relationships between features such as age, debt, years employed, income, credit score, and credit card approval. \n",
    "\n",
    "We appreciate the valuable feedback received and have made relevant changes to the report for phase 2. Based on the `feedback`, we have taken the following points into consideration: \n",
    "\n",
    "- Zero income: We now understand that zero income can be valid for unemployed candidates and replacing it with the mean may not be appropriate in all cases. \n",
    "\n",
    "\n",
    "- Age threshold: While we agree to drop records with ages below 18, we acknowledge that it is not advisable to drop records with ages above 60. \n",
    "\n",
    "\n",
    "- Outliers: We recognize that not all outliers should be removed, as they can provide valuable insights. We will reevaluate our approach to outlier removal, considering the context of each feature and its relationship to credit card approval. \n",
    "\n",
    "\n",
    "- Zip codes: The importance of zip codes in credit card approval has been highlighted, as they provide information about candidates' location and socio-economic index. We will explore the relationship between zip codes and other features in our analysis. \n",
    "\n",
    "By incorporating this feedback, we aim to enhance the accuracy and relevance of our analysis for phase 2 of the project. "
   ]
  },
  {
   "cell_type": "markdown",
   "id": "df8aa4a9",
   "metadata": {},
   "source": [
    "## Phase 2 report introduction\n",
    "\n"
   ]
  },
  {
   "cell_type": "markdown",
   "id": "2a100f4b",
   "metadata": {},
   "source": [
    " In this report, we present the findings of our Phase 2 project, focusing on predictive modelling. The goal of our project is to analyse the descriptive features and develop accurate models to predictive the outcome of our dataset credit card approval,approved or not approved.There are 690 records in the dataset and 15 descriptive features.Of these, 12 are numeric and 3 are categorical variables.'Approved' is the target variable whose outcome is to be predicted.The posssible outcomes are 'Approved' and 'Not Approved'. This section provides an overview of the report and describes the methodology employed. "
   ]
  },
  {
   "cell_type": "markdown",
   "id": "54f599f5",
   "metadata": {},
   "source": [
    "## Overview\n",
    "\n",
    "This Phase 2 report provides a detailed overview of a predictive modeling project. It covers the methodology, feature selection, model fitting and tuning, model comparison, critique and limitations, summary of findings and conclusions. \n",
    "\n",
    "The report begins with an introduction to the project and outlines the methodology used. It includes a section on feature selection, describing the method used and presenting relevant plots. The model fitting and tuning section discusses the fine-tuning process and performance analysis of the machine learning algorithms. It includes plots showing the results of hyper-parameter tuning.  \n",
    "\n",
    "Performance evaluation and model comparison are conducted using cross-validation and paired t-tests. The critique and limitations section addresses the strengths and weaknesses of the approach, along with suggestions for improvement. The report concludes with a summary of the project, key findings, and detailed conclusions. Throughout the report, relevant output values, plots, and metrics are included to support the analysis. The aim is to provide a comprehensive understanding of the methodology and insights gained. "
   ]
  },
  {
   "cell_type": "markdown",
   "id": "747ed91b",
   "metadata": {},
   "source": [
    "## Methodology"
   ]
  },
  {
   "cell_type": "markdown",
   "id": "42b03003",
   "metadata": {},
   "source": [
    "Our predictive modeling methodology consists of several steps to ensure accurate and reliable results.\n",
    "\n",
    "+ Import Data and Data Preprocessing: The first step involved importing the credit card data, which served as our dataset for predictive modeling. We performed data preprocessing techniques to clean and prepare the data for analysis, ensuring data quality and consistency. \n",
    "\n",
    "\n",
    "+ Outliers Handling: We addressed the issue of outliers in the dataset to prevent them from adversely affecting our models' performance.  \n",
    "\n",
    "\n",
    "+ Encoding the Target Feature: The target feature in our dataset was the \"APPROVED\" column, which indicated whether a credit card application was approved or not. We encoded this categorical target feature into numerical form to make it compatible with the machine learning algorithms. \n",
    "\n",
    "\n",
    "+ Feature Scaling: To ensure fair comparison and improve model performance, we applied feature scaling techniques to standardize the numerical features. This step helps in bringing all the features to a similar scale, preventing any feature from dominating the model training process.  \n",
    "\n",
    "  - Random Forest Information was utilized as a feature selection method to identify the most informative features for our models. \n",
    "\n",
    "  - After performing feature selection, the following features were determined to be the most influential: Prior Default,Zip Code,Credit Score,Age,Income,YearsEmployed,Debt,EmployedDriversLicense,Ethnicity_Black.\n",
    "  \n",
    "\n",
    "+ Model Selection: We employed various machine learning algorithms to build our predictive models, including: \n",
    "\n",
    "     - K-Nearest Neighbors (KNN) \n",
    "    \n",
    "     - Decision Tree (DT) \n",
    "\n",
    "     - Gaussian Naive Bayes \n",
    "\n",
    "     - Random Forest \n",
    "\n",
    "     - Support Vector Machines (SVM) \n",
    "     \n",
    "\n",
    "+ Model Fitting and Tuning: Each classifier was fine-tuned using cross-validated hyperparameter optimization techniques. We utilized grid search and cross-validation to identify the optimal hyperparameter settings for each model. The performance of each tuned classifier was evaluated on the test data using cross-validation to ensure unbiased assessment. \n",
    "\n",
    "\n",
    "+ Model Comparison: To select the best classifier, we compared the performance of each tuned model using appropriate evaluation metrics, such as accuracy, precision, recall, and F1-score. The models were assessed based on their ability to accurately predict credit card application approval. "
   ]
  },
  {
   "cell_type": "code",
   "execution_count": 1,
   "id": "3399f6ed",
   "metadata": {},
   "outputs": [],
   "source": [
    "import pandas as pd\n",
    "import numpy as np\n",
    "\n",
    "import warnings\n",
    "warnings.filterwarnings(\"ignore\")\n",
    "\n",
    "import matplotlib.pyplot as plt\n",
    "import seaborn as sns"
   ]
  },
  {
   "cell_type": "code",
   "execution_count": 2,
   "id": "9e4bf5a9",
   "metadata": {
    "scrolled": true
   },
   "outputs": [
    {
     "data": {
      "text/html": [
       "<div>\n",
       "<style scoped>\n",
       "    .dataframe tbody tr th:only-of-type {\n",
       "        vertical-align: middle;\n",
       "    }\n",
       "\n",
       "    .dataframe tbody tr th {\n",
       "        vertical-align: top;\n",
       "    }\n",
       "\n",
       "    .dataframe thead th {\n",
       "        text-align: right;\n",
       "    }\n",
       "</style>\n",
       "<table border=\"1\" class=\"dataframe\">\n",
       "  <thead>\n",
       "    <tr style=\"text-align: right;\">\n",
       "      <th></th>\n",
       "      <th>Gender</th>\n",
       "      <th>Age</th>\n",
       "      <th>Debt</th>\n",
       "      <th>Married</th>\n",
       "      <th>BankCustomer</th>\n",
       "      <th>Industry</th>\n",
       "      <th>Ethnicity</th>\n",
       "      <th>YearsEmployed</th>\n",
       "      <th>PriorDefault</th>\n",
       "      <th>Employed</th>\n",
       "      <th>CreditScore</th>\n",
       "      <th>DriversLicense</th>\n",
       "      <th>Citizen</th>\n",
       "      <th>ZipCode</th>\n",
       "      <th>Income</th>\n",
       "      <th>Approved</th>\n",
       "    </tr>\n",
       "  </thead>\n",
       "  <tbody>\n",
       "    <tr>\n",
       "      <th>0</th>\n",
       "      <td>1</td>\n",
       "      <td>30.83</td>\n",
       "      <td>0.000</td>\n",
       "      <td>1</td>\n",
       "      <td>1</td>\n",
       "      <td>Industrials</td>\n",
       "      <td>White</td>\n",
       "      <td>1.25</td>\n",
       "      <td>1</td>\n",
       "      <td>1</td>\n",
       "      <td>1</td>\n",
       "      <td>0</td>\n",
       "      <td>ByBirth</td>\n",
       "      <td>202</td>\n",
       "      <td>0</td>\n",
       "      <td>1</td>\n",
       "    </tr>\n",
       "    <tr>\n",
       "      <th>1</th>\n",
       "      <td>0</td>\n",
       "      <td>58.67</td>\n",
       "      <td>4.460</td>\n",
       "      <td>1</td>\n",
       "      <td>1</td>\n",
       "      <td>Materials</td>\n",
       "      <td>Black</td>\n",
       "      <td>3.04</td>\n",
       "      <td>1</td>\n",
       "      <td>1</td>\n",
       "      <td>6</td>\n",
       "      <td>0</td>\n",
       "      <td>ByBirth</td>\n",
       "      <td>43</td>\n",
       "      <td>560</td>\n",
       "      <td>1</td>\n",
       "    </tr>\n",
       "    <tr>\n",
       "      <th>2</th>\n",
       "      <td>0</td>\n",
       "      <td>24.50</td>\n",
       "      <td>0.500</td>\n",
       "      <td>1</td>\n",
       "      <td>1</td>\n",
       "      <td>Materials</td>\n",
       "      <td>Black</td>\n",
       "      <td>1.50</td>\n",
       "      <td>1</td>\n",
       "      <td>0</td>\n",
       "      <td>0</td>\n",
       "      <td>0</td>\n",
       "      <td>ByBirth</td>\n",
       "      <td>280</td>\n",
       "      <td>824</td>\n",
       "      <td>1</td>\n",
       "    </tr>\n",
       "    <tr>\n",
       "      <th>3</th>\n",
       "      <td>1</td>\n",
       "      <td>27.83</td>\n",
       "      <td>1.540</td>\n",
       "      <td>1</td>\n",
       "      <td>1</td>\n",
       "      <td>Industrials</td>\n",
       "      <td>White</td>\n",
       "      <td>3.75</td>\n",
       "      <td>1</td>\n",
       "      <td>1</td>\n",
       "      <td>5</td>\n",
       "      <td>1</td>\n",
       "      <td>ByBirth</td>\n",
       "      <td>100</td>\n",
       "      <td>3</td>\n",
       "      <td>1</td>\n",
       "    </tr>\n",
       "    <tr>\n",
       "      <th>4</th>\n",
       "      <td>1</td>\n",
       "      <td>20.17</td>\n",
       "      <td>5.625</td>\n",
       "      <td>1</td>\n",
       "      <td>1</td>\n",
       "      <td>Industrials</td>\n",
       "      <td>White</td>\n",
       "      <td>1.71</td>\n",
       "      <td>1</td>\n",
       "      <td>0</td>\n",
       "      <td>0</td>\n",
       "      <td>0</td>\n",
       "      <td>ByOtherMeans</td>\n",
       "      <td>120</td>\n",
       "      <td>0</td>\n",
       "      <td>1</td>\n",
       "    </tr>\n",
       "  </tbody>\n",
       "</table>\n",
       "</div>"
      ],
      "text/plain": [
       "   Gender    Age   Debt  Married  BankCustomer     Industry Ethnicity  \\\n",
       "0       1  30.83  0.000        1             1  Industrials     White   \n",
       "1       0  58.67  4.460        1             1    Materials     Black   \n",
       "2       0  24.50  0.500        1             1    Materials     Black   \n",
       "3       1  27.83  1.540        1             1  Industrials     White   \n",
       "4       1  20.17  5.625        1             1  Industrials     White   \n",
       "\n",
       "   YearsEmployed  PriorDefault  Employed  CreditScore  DriversLicense  \\\n",
       "0           1.25             1         1            1               0   \n",
       "1           3.04             1         1            6               0   \n",
       "2           1.50             1         0            0               0   \n",
       "3           3.75             1         1            5               1   \n",
       "4           1.71             1         0            0               0   \n",
       "\n",
       "        Citizen  ZipCode  Income  Approved  \n",
       "0       ByBirth      202       0         1  \n",
       "1       ByBirth       43     560         1  \n",
       "2       ByBirth      280     824         1  \n",
       "3       ByBirth      100       3         1  \n",
       "4  ByOtherMeans      120       0         1  "
      ]
     },
     "execution_count": 2,
     "metadata": {},
     "output_type": "execute_result"
    }
   ],
   "source": [
    "#Import Datasets\n",
    "\n",
    "df = pd.read_csv('Credit_card_approval.csv')\n",
    "\n",
    "#Displaying the first five rows of the data set\n",
    "df.head(5)"
   ]
  },
  {
   "cell_type": "markdown",
   "id": "c8b9f313",
   "metadata": {},
   "source": [
    "Selecting 10 random samples to display."
   ]
  },
  {
   "cell_type": "code",
   "execution_count": 3,
   "id": "629ebba1",
   "metadata": {},
   "outputs": [
    {
     "data": {
      "text/html": [
       "<div>\n",
       "<style scoped>\n",
       "    .dataframe tbody tr th:only-of-type {\n",
       "        vertical-align: middle;\n",
       "    }\n",
       "\n",
       "    .dataframe tbody tr th {\n",
       "        vertical-align: top;\n",
       "    }\n",
       "\n",
       "    .dataframe thead th {\n",
       "        text-align: right;\n",
       "    }\n",
       "</style>\n",
       "<table border=\"1\" class=\"dataframe\">\n",
       "  <thead>\n",
       "    <tr style=\"text-align: right;\">\n",
       "      <th></th>\n",
       "      <th>Gender</th>\n",
       "      <th>Age</th>\n",
       "      <th>Debt</th>\n",
       "      <th>Married</th>\n",
       "      <th>BankCustomer</th>\n",
       "      <th>Industry</th>\n",
       "      <th>Ethnicity</th>\n",
       "      <th>YearsEmployed</th>\n",
       "      <th>PriorDefault</th>\n",
       "      <th>Employed</th>\n",
       "      <th>CreditScore</th>\n",
       "      <th>DriversLicense</th>\n",
       "      <th>Citizen</th>\n",
       "      <th>ZipCode</th>\n",
       "      <th>Income</th>\n",
       "      <th>Approved</th>\n",
       "    </tr>\n",
       "  </thead>\n",
       "  <tbody>\n",
       "    <tr>\n",
       "      <th>477</th>\n",
       "      <td>1</td>\n",
       "      <td>39.17</td>\n",
       "      <td>2.500</td>\n",
       "      <td>0</td>\n",
       "      <td>0</td>\n",
       "      <td>ConsumerDiscretionary</td>\n",
       "      <td>Black</td>\n",
       "      <td>10.000</td>\n",
       "      <td>0</td>\n",
       "      <td>0</td>\n",
       "      <td>0</td>\n",
       "      <td>1</td>\n",
       "      <td>ByOtherMeans</td>\n",
       "      <td>200</td>\n",
       "      <td>0</td>\n",
       "      <td>0</td>\n",
       "    </tr>\n",
       "    <tr>\n",
       "      <th>57</th>\n",
       "      <td>1</td>\n",
       "      <td>44.33</td>\n",
       "      <td>0.500</td>\n",
       "      <td>1</td>\n",
       "      <td>1</td>\n",
       "      <td>ConsumerDiscretionary</td>\n",
       "      <td>Black</td>\n",
       "      <td>5.000</td>\n",
       "      <td>1</td>\n",
       "      <td>0</td>\n",
       "      <td>0</td>\n",
       "      <td>1</td>\n",
       "      <td>ByBirth</td>\n",
       "      <td>320</td>\n",
       "      <td>0</td>\n",
       "      <td>1</td>\n",
       "    </tr>\n",
       "    <tr>\n",
       "      <th>35</th>\n",
       "      <td>1</td>\n",
       "      <td>27.83</td>\n",
       "      <td>1.500</td>\n",
       "      <td>1</td>\n",
       "      <td>1</td>\n",
       "      <td>Industrials</td>\n",
       "      <td>White</td>\n",
       "      <td>2.000</td>\n",
       "      <td>1</td>\n",
       "      <td>1</td>\n",
       "      <td>11</td>\n",
       "      <td>1</td>\n",
       "      <td>ByBirth</td>\n",
       "      <td>434</td>\n",
       "      <td>35</td>\n",
       "      <td>1</td>\n",
       "    </tr>\n",
       "    <tr>\n",
       "      <th>94</th>\n",
       "      <td>1</td>\n",
       "      <td>28.75</td>\n",
       "      <td>1.500</td>\n",
       "      <td>0</td>\n",
       "      <td>0</td>\n",
       "      <td>Energy</td>\n",
       "      <td>White</td>\n",
       "      <td>1.500</td>\n",
       "      <td>1</td>\n",
       "      <td>0</td>\n",
       "      <td>0</td>\n",
       "      <td>1</td>\n",
       "      <td>ByBirth</td>\n",
       "      <td>0</td>\n",
       "      <td>225</td>\n",
       "      <td>0</td>\n",
       "    </tr>\n",
       "    <tr>\n",
       "      <th>227</th>\n",
       "      <td>0</td>\n",
       "      <td>22.50</td>\n",
       "      <td>8.460</td>\n",
       "      <td>0</td>\n",
       "      <td>0</td>\n",
       "      <td>Utilities</td>\n",
       "      <td>White</td>\n",
       "      <td>2.460</td>\n",
       "      <td>0</td>\n",
       "      <td>0</td>\n",
       "      <td>0</td>\n",
       "      <td>0</td>\n",
       "      <td>ByBirth</td>\n",
       "      <td>164</td>\n",
       "      <td>0</td>\n",
       "      <td>1</td>\n",
       "    </tr>\n",
       "    <tr>\n",
       "      <th>381</th>\n",
       "      <td>0</td>\n",
       "      <td>22.67</td>\n",
       "      <td>7.000</td>\n",
       "      <td>1</td>\n",
       "      <td>1</td>\n",
       "      <td>Energy</td>\n",
       "      <td>White</td>\n",
       "      <td>0.165</td>\n",
       "      <td>0</td>\n",
       "      <td>0</td>\n",
       "      <td>0</td>\n",
       "      <td>0</td>\n",
       "      <td>ByBirth</td>\n",
       "      <td>160</td>\n",
       "      <td>0</td>\n",
       "      <td>0</td>\n",
       "    </tr>\n",
       "    <tr>\n",
       "      <th>323</th>\n",
       "      <td>1</td>\n",
       "      <td>48.58</td>\n",
       "      <td>0.205</td>\n",
       "      <td>0</td>\n",
       "      <td>0</td>\n",
       "      <td>Financials</td>\n",
       "      <td>White</td>\n",
       "      <td>0.250</td>\n",
       "      <td>1</td>\n",
       "      <td>1</td>\n",
       "      <td>11</td>\n",
       "      <td>0</td>\n",
       "      <td>ByBirth</td>\n",
       "      <td>380</td>\n",
       "      <td>2732</td>\n",
       "      <td>1</td>\n",
       "    </tr>\n",
       "    <tr>\n",
       "      <th>635</th>\n",
       "      <td>1</td>\n",
       "      <td>18.17</td>\n",
       "      <td>2.460</td>\n",
       "      <td>1</td>\n",
       "      <td>1</td>\n",
       "      <td>Energy</td>\n",
       "      <td>Other</td>\n",
       "      <td>0.960</td>\n",
       "      <td>0</td>\n",
       "      <td>1</td>\n",
       "      <td>2</td>\n",
       "      <td>1</td>\n",
       "      <td>ByBirth</td>\n",
       "      <td>160</td>\n",
       "      <td>587</td>\n",
       "      <td>0</td>\n",
       "    </tr>\n",
       "    <tr>\n",
       "      <th>328</th>\n",
       "      <td>1</td>\n",
       "      <td>34.83</td>\n",
       "      <td>2.500</td>\n",
       "      <td>0</td>\n",
       "      <td>0</td>\n",
       "      <td>Industrials</td>\n",
       "      <td>White</td>\n",
       "      <td>3.000</td>\n",
       "      <td>0</td>\n",
       "      <td>0</td>\n",
       "      <td>0</td>\n",
       "      <td>0</td>\n",
       "      <td>ByOtherMeans</td>\n",
       "      <td>200</td>\n",
       "      <td>0</td>\n",
       "      <td>0</td>\n",
       "    </tr>\n",
       "    <tr>\n",
       "      <th>671</th>\n",
       "      <td>1</td>\n",
       "      <td>25.83</td>\n",
       "      <td>12.835</td>\n",
       "      <td>1</td>\n",
       "      <td>1</td>\n",
       "      <td>InformationTechnology</td>\n",
       "      <td>White</td>\n",
       "      <td>0.500</td>\n",
       "      <td>0</td>\n",
       "      <td>0</td>\n",
       "      <td>0</td>\n",
       "      <td>0</td>\n",
       "      <td>ByBirth</td>\n",
       "      <td>0</td>\n",
       "      <td>2</td>\n",
       "      <td>0</td>\n",
       "    </tr>\n",
       "  </tbody>\n",
       "</table>\n",
       "</div>"
      ],
      "text/plain": [
       "     Gender    Age    Debt  Married  BankCustomer               Industry  \\\n",
       "477       1  39.17   2.500        0             0  ConsumerDiscretionary   \n",
       "57        1  44.33   0.500        1             1  ConsumerDiscretionary   \n",
       "35        1  27.83   1.500        1             1            Industrials   \n",
       "94        1  28.75   1.500        0             0                 Energy   \n",
       "227       0  22.50   8.460        0             0              Utilities   \n",
       "381       0  22.67   7.000        1             1                 Energy   \n",
       "323       1  48.58   0.205        0             0             Financials   \n",
       "635       1  18.17   2.460        1             1                 Energy   \n",
       "328       1  34.83   2.500        0             0            Industrials   \n",
       "671       1  25.83  12.835        1             1  InformationTechnology   \n",
       "\n",
       "    Ethnicity  YearsEmployed  PriorDefault  Employed  CreditScore  \\\n",
       "477     Black         10.000             0         0            0   \n",
       "57      Black          5.000             1         0            0   \n",
       "35      White          2.000             1         1           11   \n",
       "94      White          1.500             1         0            0   \n",
       "227     White          2.460             0         0            0   \n",
       "381     White          0.165             0         0            0   \n",
       "323     White          0.250             1         1           11   \n",
       "635     Other          0.960             0         1            2   \n",
       "328     White          3.000             0         0            0   \n",
       "671     White          0.500             0         0            0   \n",
       "\n",
       "     DriversLicense       Citizen  ZipCode  Income  Approved  \n",
       "477               1  ByOtherMeans      200       0         0  \n",
       "57                1       ByBirth      320       0         1  \n",
       "35                1       ByBirth      434      35         1  \n",
       "94                1       ByBirth        0     225         0  \n",
       "227               0       ByBirth      164       0         1  \n",
       "381               0       ByBirth      160       0         0  \n",
       "323               0       ByBirth      380    2732         1  \n",
       "635               1       ByBirth      160     587         0  \n",
       "328               0  ByOtherMeans      200       0         0  \n",
       "671               0       ByBirth        0       2         0  "
      ]
     },
     "execution_count": 3,
     "metadata": {},
     "output_type": "execute_result"
    }
   ],
   "source": [
    "df.sample(10, random_state=999)"
   ]
  },
  {
   "cell_type": "code",
   "execution_count": 4,
   "id": "7cfe8d02",
   "metadata": {},
   "outputs": [
    {
     "data": {
      "text/plain": [
       "(690, 16)"
      ]
     },
     "execution_count": 4,
     "metadata": {},
     "output_type": "execute_result"
    }
   ],
   "source": [
    "df.shape"
   ]
  },
  {
   "cell_type": "code",
   "execution_count": 5,
   "id": "31db60b5",
   "metadata": {
    "scrolled": true
   },
   "outputs": [
    {
     "name": "stdout",
     "output_type": "stream",
     "text": [
      "<class 'pandas.core.frame.DataFrame'>\n",
      "RangeIndex: 690 entries, 0 to 689\n",
      "Data columns (total 16 columns):\n",
      " #   Column          Non-Null Count  Dtype  \n",
      "---  ------          --------------  -----  \n",
      " 0   Gender          690 non-null    int64  \n",
      " 1   Age             690 non-null    float64\n",
      " 2   Debt            690 non-null    float64\n",
      " 3   Married         690 non-null    int64  \n",
      " 4   BankCustomer    690 non-null    int64  \n",
      " 5   Industry        690 non-null    object \n",
      " 6   Ethnicity       690 non-null    object \n",
      " 7   YearsEmployed   690 non-null    float64\n",
      " 8   PriorDefault    690 non-null    int64  \n",
      " 9   Employed        690 non-null    int64  \n",
      " 10  CreditScore     690 non-null    int64  \n",
      " 11  DriversLicense  690 non-null    int64  \n",
      " 12  Citizen         690 non-null    object \n",
      " 13  ZipCode         690 non-null    int64  \n",
      " 14  Income          690 non-null    int64  \n",
      " 15  Approved        690 non-null    int64  \n",
      "dtypes: float64(3), int64(10), object(3)\n",
      "memory usage: 86.4+ KB\n"
     ]
    }
   ],
   "source": [
    "df.info()"
   ]
  },
  {
   "cell_type": "markdown",
   "id": "f52d4bac",
   "metadata": {},
   "source": [
    "## Data Preprocessing"
   ]
  },
  {
   "cell_type": "code",
   "execution_count": 6,
   "id": "e973d368",
   "metadata": {},
   "outputs": [
    {
     "data": {
      "text/plain": [
       "False"
      ]
     },
     "execution_count": 6,
     "metadata": {},
     "output_type": "execute_result"
    }
   ],
   "source": [
    "df.isnull().values.any()"
   ]
  },
  {
   "cell_type": "code",
   "execution_count": 7,
   "id": "ed411d6e",
   "metadata": {},
   "outputs": [
    {
     "data": {
      "text/plain": [
       "Gender            0\n",
       "Age               0\n",
       "Debt              0\n",
       "Married           0\n",
       "BankCustomer      0\n",
       "Industry          0\n",
       "Ethnicity         0\n",
       "YearsEmployed     0\n",
       "PriorDefault      0\n",
       "Employed          0\n",
       "CreditScore       0\n",
       "DriversLicense    0\n",
       "Citizen           0\n",
       "ZipCode           0\n",
       "Income            0\n",
       "Approved          0\n",
       "dtype: int64"
      ]
     },
     "execution_count": 7,
     "metadata": {},
     "output_type": "execute_result"
    }
   ],
   "source": [
    "df.isnull().sum()"
   ]
  },
  {
   "cell_type": "code",
   "execution_count": 8,
   "id": "d5c8f217",
   "metadata": {
    "scrolled": true
   },
   "outputs": [
    {
     "data": {
      "text/plain": [
       "False"
      ]
     },
     "execution_count": 8,
     "metadata": {},
     "output_type": "execute_result"
    }
   ],
   "source": [
    "df.duplicated().any()"
   ]
  },
  {
   "cell_type": "code",
   "execution_count": 9,
   "id": "c567461e",
   "metadata": {},
   "outputs": [],
   "source": [
    "df = df.round(0)"
   ]
  },
  {
   "cell_type": "markdown",
   "id": "4442cff3",
   "metadata": {},
   "source": [
    "### Summary statistics"
   ]
  },
  {
   "cell_type": "code",
   "execution_count": 10,
   "id": "6cdbfa59",
   "metadata": {
    "scrolled": true
   },
   "outputs": [
    {
     "data": {
      "text/html": [
       "<div>\n",
       "<style scoped>\n",
       "    .dataframe tbody tr th:only-of-type {\n",
       "        vertical-align: middle;\n",
       "    }\n",
       "\n",
       "    .dataframe tbody tr th {\n",
       "        vertical-align: top;\n",
       "    }\n",
       "\n",
       "    .dataframe thead th {\n",
       "        text-align: right;\n",
       "    }\n",
       "</style>\n",
       "<table border=\"1\" class=\"dataframe\">\n",
       "  <thead>\n",
       "    <tr style=\"text-align: right;\">\n",
       "      <th></th>\n",
       "      <th>Gender</th>\n",
       "      <th>Age</th>\n",
       "      <th>Debt</th>\n",
       "      <th>Married</th>\n",
       "      <th>BankCustomer</th>\n",
       "      <th>Industry</th>\n",
       "      <th>Ethnicity</th>\n",
       "      <th>YearsEmployed</th>\n",
       "      <th>PriorDefault</th>\n",
       "      <th>Employed</th>\n",
       "      <th>CreditScore</th>\n",
       "      <th>DriversLicense</th>\n",
       "      <th>Citizen</th>\n",
       "      <th>ZipCode</th>\n",
       "      <th>Income</th>\n",
       "      <th>Approved</th>\n",
       "    </tr>\n",
       "  </thead>\n",
       "  <tbody>\n",
       "    <tr>\n",
       "      <th>count</th>\n",
       "      <td>690.000000</td>\n",
       "      <td>690.000000</td>\n",
       "      <td>690.000000</td>\n",
       "      <td>690.000000</td>\n",
       "      <td>690.000000</td>\n",
       "      <td>690</td>\n",
       "      <td>690</td>\n",
       "      <td>690.000000</td>\n",
       "      <td>690.000000</td>\n",
       "      <td>690.000000</td>\n",
       "      <td>690.00000</td>\n",
       "      <td>690.000000</td>\n",
       "      <td>690</td>\n",
       "      <td>690.000000</td>\n",
       "      <td>690.000000</td>\n",
       "      <td>690.000000</td>\n",
       "    </tr>\n",
       "    <tr>\n",
       "      <th>unique</th>\n",
       "      <td>NaN</td>\n",
       "      <td>NaN</td>\n",
       "      <td>NaN</td>\n",
       "      <td>NaN</td>\n",
       "      <td>NaN</td>\n",
       "      <td>14</td>\n",
       "      <td>5</td>\n",
       "      <td>NaN</td>\n",
       "      <td>NaN</td>\n",
       "      <td>NaN</td>\n",
       "      <td>NaN</td>\n",
       "      <td>NaN</td>\n",
       "      <td>3</td>\n",
       "      <td>NaN</td>\n",
       "      <td>NaN</td>\n",
       "      <td>NaN</td>\n",
       "    </tr>\n",
       "    <tr>\n",
       "      <th>top</th>\n",
       "      <td>NaN</td>\n",
       "      <td>NaN</td>\n",
       "      <td>NaN</td>\n",
       "      <td>NaN</td>\n",
       "      <td>NaN</td>\n",
       "      <td>Energy</td>\n",
       "      <td>White</td>\n",
       "      <td>NaN</td>\n",
       "      <td>NaN</td>\n",
       "      <td>NaN</td>\n",
       "      <td>NaN</td>\n",
       "      <td>NaN</td>\n",
       "      <td>ByBirth</td>\n",
       "      <td>NaN</td>\n",
       "      <td>NaN</td>\n",
       "      <td>NaN</td>\n",
       "    </tr>\n",
       "    <tr>\n",
       "      <th>freq</th>\n",
       "      <td>NaN</td>\n",
       "      <td>NaN</td>\n",
       "      <td>NaN</td>\n",
       "      <td>NaN</td>\n",
       "      <td>NaN</td>\n",
       "      <td>146</td>\n",
       "      <td>408</td>\n",
       "      <td>NaN</td>\n",
       "      <td>NaN</td>\n",
       "      <td>NaN</td>\n",
       "      <td>NaN</td>\n",
       "      <td>NaN</td>\n",
       "      <td>625</td>\n",
       "      <td>NaN</td>\n",
       "      <td>NaN</td>\n",
       "      <td>NaN</td>\n",
       "    </tr>\n",
       "    <tr>\n",
       "      <th>mean</th>\n",
       "      <td>0.695652</td>\n",
       "      <td>31.511594</td>\n",
       "      <td>4.756522</td>\n",
       "      <td>0.760870</td>\n",
       "      <td>0.763768</td>\n",
       "      <td>NaN</td>\n",
       "      <td>NaN</td>\n",
       "      <td>2.179710</td>\n",
       "      <td>0.523188</td>\n",
       "      <td>0.427536</td>\n",
       "      <td>2.40000</td>\n",
       "      <td>0.457971</td>\n",
       "      <td>NaN</td>\n",
       "      <td>180.547826</td>\n",
       "      <td>1017.385507</td>\n",
       "      <td>0.444928</td>\n",
       "    </tr>\n",
       "    <tr>\n",
       "      <th>std</th>\n",
       "      <td>0.460464</td>\n",
       "      <td>11.864891</td>\n",
       "      <td>4.989553</td>\n",
       "      <td>0.426862</td>\n",
       "      <td>0.425074</td>\n",
       "      <td>NaN</td>\n",
       "      <td>NaN</td>\n",
       "      <td>3.381782</td>\n",
       "      <td>0.499824</td>\n",
       "      <td>0.495080</td>\n",
       "      <td>4.86294</td>\n",
       "      <td>0.498592</td>\n",
       "      <td>NaN</td>\n",
       "      <td>173.970323</td>\n",
       "      <td>5210.102598</td>\n",
       "      <td>0.497318</td>\n",
       "    </tr>\n",
       "    <tr>\n",
       "      <th>min</th>\n",
       "      <td>0.000000</td>\n",
       "      <td>14.000000</td>\n",
       "      <td>0.000000</td>\n",
       "      <td>0.000000</td>\n",
       "      <td>0.000000</td>\n",
       "      <td>NaN</td>\n",
       "      <td>NaN</td>\n",
       "      <td>0.000000</td>\n",
       "      <td>0.000000</td>\n",
       "      <td>0.000000</td>\n",
       "      <td>0.00000</td>\n",
       "      <td>0.000000</td>\n",
       "      <td>NaN</td>\n",
       "      <td>0.000000</td>\n",
       "      <td>0.000000</td>\n",
       "      <td>0.000000</td>\n",
       "    </tr>\n",
       "    <tr>\n",
       "      <th>25%</th>\n",
       "      <td>0.000000</td>\n",
       "      <td>23.000000</td>\n",
       "      <td>1.000000</td>\n",
       "      <td>1.000000</td>\n",
       "      <td>1.000000</td>\n",
       "      <td>NaN</td>\n",
       "      <td>NaN</td>\n",
       "      <td>0.000000</td>\n",
       "      <td>0.000000</td>\n",
       "      <td>0.000000</td>\n",
       "      <td>0.00000</td>\n",
       "      <td>0.000000</td>\n",
       "      <td>NaN</td>\n",
       "      <td>60.000000</td>\n",
       "      <td>0.000000</td>\n",
       "      <td>0.000000</td>\n",
       "    </tr>\n",
       "    <tr>\n",
       "      <th>50%</th>\n",
       "      <td>1.000000</td>\n",
       "      <td>28.000000</td>\n",
       "      <td>3.000000</td>\n",
       "      <td>1.000000</td>\n",
       "      <td>1.000000</td>\n",
       "      <td>NaN</td>\n",
       "      <td>NaN</td>\n",
       "      <td>1.000000</td>\n",
       "      <td>1.000000</td>\n",
       "      <td>0.000000</td>\n",
       "      <td>0.00000</td>\n",
       "      <td>0.000000</td>\n",
       "      <td>NaN</td>\n",
       "      <td>160.000000</td>\n",
       "      <td>5.000000</td>\n",
       "      <td>0.000000</td>\n",
       "    </tr>\n",
       "    <tr>\n",
       "      <th>75%</th>\n",
       "      <td>1.000000</td>\n",
       "      <td>38.000000</td>\n",
       "      <td>7.000000</td>\n",
       "      <td>1.000000</td>\n",
       "      <td>1.000000</td>\n",
       "      <td>NaN</td>\n",
       "      <td>NaN</td>\n",
       "      <td>3.000000</td>\n",
       "      <td>1.000000</td>\n",
       "      <td>1.000000</td>\n",
       "      <td>3.00000</td>\n",
       "      <td>1.000000</td>\n",
       "      <td>NaN</td>\n",
       "      <td>272.000000</td>\n",
       "      <td>395.500000</td>\n",
       "      <td>1.000000</td>\n",
       "    </tr>\n",
       "    <tr>\n",
       "      <th>max</th>\n",
       "      <td>1.000000</td>\n",
       "      <td>80.000000</td>\n",
       "      <td>28.000000</td>\n",
       "      <td>1.000000</td>\n",
       "      <td>1.000000</td>\n",
       "      <td>NaN</td>\n",
       "      <td>NaN</td>\n",
       "      <td>28.000000</td>\n",
       "      <td>1.000000</td>\n",
       "      <td>1.000000</td>\n",
       "      <td>67.00000</td>\n",
       "      <td>1.000000</td>\n",
       "      <td>NaN</td>\n",
       "      <td>2000.000000</td>\n",
       "      <td>100000.000000</td>\n",
       "      <td>1.000000</td>\n",
       "    </tr>\n",
       "  </tbody>\n",
       "</table>\n",
       "</div>"
      ],
      "text/plain": [
       "            Gender         Age        Debt     Married  BankCustomer Industry  \\\n",
       "count   690.000000  690.000000  690.000000  690.000000    690.000000      690   \n",
       "unique         NaN         NaN         NaN         NaN           NaN       14   \n",
       "top            NaN         NaN         NaN         NaN           NaN   Energy   \n",
       "freq           NaN         NaN         NaN         NaN           NaN      146   \n",
       "mean      0.695652   31.511594    4.756522    0.760870      0.763768      NaN   \n",
       "std       0.460464   11.864891    4.989553    0.426862      0.425074      NaN   \n",
       "min       0.000000   14.000000    0.000000    0.000000      0.000000      NaN   \n",
       "25%       0.000000   23.000000    1.000000    1.000000      1.000000      NaN   \n",
       "50%       1.000000   28.000000    3.000000    1.000000      1.000000      NaN   \n",
       "75%       1.000000   38.000000    7.000000    1.000000      1.000000      NaN   \n",
       "max       1.000000   80.000000   28.000000    1.000000      1.000000      NaN   \n",
       "\n",
       "       Ethnicity  YearsEmployed  PriorDefault    Employed  CreditScore  \\\n",
       "count        690     690.000000    690.000000  690.000000    690.00000   \n",
       "unique         5            NaN           NaN         NaN          NaN   \n",
       "top        White            NaN           NaN         NaN          NaN   \n",
       "freq         408            NaN           NaN         NaN          NaN   \n",
       "mean         NaN       2.179710      0.523188    0.427536      2.40000   \n",
       "std          NaN       3.381782      0.499824    0.495080      4.86294   \n",
       "min          NaN       0.000000      0.000000    0.000000      0.00000   \n",
       "25%          NaN       0.000000      0.000000    0.000000      0.00000   \n",
       "50%          NaN       1.000000      1.000000    0.000000      0.00000   \n",
       "75%          NaN       3.000000      1.000000    1.000000      3.00000   \n",
       "max          NaN      28.000000      1.000000    1.000000     67.00000   \n",
       "\n",
       "        DriversLicense  Citizen      ZipCode         Income    Approved  \n",
       "count       690.000000      690   690.000000     690.000000  690.000000  \n",
       "unique             NaN        3          NaN            NaN         NaN  \n",
       "top                NaN  ByBirth          NaN            NaN         NaN  \n",
       "freq               NaN      625          NaN            NaN         NaN  \n",
       "mean          0.457971      NaN   180.547826    1017.385507    0.444928  \n",
       "std           0.498592      NaN   173.970323    5210.102598    0.497318  \n",
       "min           0.000000      NaN     0.000000       0.000000    0.000000  \n",
       "25%           0.000000      NaN    60.000000       0.000000    0.000000  \n",
       "50%           0.000000      NaN   160.000000       5.000000    0.000000  \n",
       "75%           1.000000      NaN   272.000000     395.500000    1.000000  \n",
       "max           1.000000      NaN  2000.000000  100000.000000    1.000000  "
      ]
     },
     "execution_count": 10,
     "metadata": {},
     "output_type": "execute_result"
    }
   ],
   "source": [
    "df.describe(include='all')"
   ]
  },
  {
   "cell_type": "code",
   "execution_count": 11,
   "id": "7b45a3c9",
   "metadata": {},
   "outputs": [],
   "source": [
    "#Converting float to integer of Age column\n",
    "\n",
    "df['Age'] = df['Age'].astype(int)\n",
    "\n",
    "#Converting float to integer of YearsEmployed column\n",
    "\n",
    "df['YearsEmployed'] = df['YearsEmployed'].astype(int)"
   ]
  },
  {
   "cell_type": "markdown",
   "id": "f5b9a725",
   "metadata": {},
   "source": [
    "## Outlier handling"
   ]
  },
  {
   "cell_type": "code",
   "execution_count": 12,
   "id": "64fb1ec9",
   "metadata": {},
   "outputs": [],
   "source": [
    "#Deleting the rows with age below 18 years\n",
    "df.drop(df.index[df['Age'] < 18], inplace = True)\n",
    "\n",
    "#Deleting the rows with debt above 17\n",
    "df.drop(df.index[df['Debt'] > 17 ], inplace=True)\n",
    "\n",
    "#Deleting the rows with creditscore more than 13\n",
    "df.drop(df.index[df['CreditScore'] > 13 ], inplace=True)\n",
    "\n",
    "#Deleting the rows with income greater than 2000\n",
    "df.drop(df.index[df['Income'] > 2000 ], inplace=True)\n",
    "\n",
    "#Resetting the index of the data frame after deleting the rows\n",
    "df.reset_index(drop = True, inplace = True)"
   ]
  },
  {
   "cell_type": "markdown",
   "id": "a01c7cf9",
   "metadata": {},
   "source": [
    "## Encoding Target feature"
   ]
  },
  {
   "cell_type": "code",
   "execution_count": 13,
   "id": "11665ed9",
   "metadata": {},
   "outputs": [
    {
     "data": {
      "text/plain": [
       "0    345\n",
       "1    227\n",
       "Name: Approved, dtype: int64"
      ]
     },
     "execution_count": 13,
     "metadata": {},
     "output_type": "execute_result"
    }
   ],
   "source": [
    "Data = df.drop(columns='Approved')\n",
    "target = df['Approved']\n",
    "target.value_counts()"
   ]
  },
  {
   "cell_type": "code",
   "execution_count": 14,
   "id": "fd81e20b",
   "metadata": {},
   "outputs": [
    {
     "data": {
      "text/plain": [
       "['Industry', 'Ethnicity', 'Citizen']"
      ]
     },
     "execution_count": 14,
     "metadata": {},
     "output_type": "execute_result"
    }
   ],
   "source": [
    "cat_cols = Data.columns[Data.dtypes==object].tolist()\n",
    "cat_cols"
   ]
  },
  {
   "cell_type": "code",
   "execution_count": 15,
   "id": "e0f4d421",
   "metadata": {},
   "outputs": [],
   "source": [
    "for col in cat_cols:\n",
    "    if (Data[col].nunique() == 2):\n",
    "        Data[col] = pd.get_dummies(Data[col], drop_first=True)\n",
    "   \n",
    "Data = pd.get_dummies(Data)"
   ]
  },
  {
   "cell_type": "code",
   "execution_count": 16,
   "id": "4ab89b81",
   "metadata": {},
   "outputs": [
    {
     "data": {
      "text/plain": [
       "Index(['Gender', 'Age', 'Debt', 'Married', 'BankCustomer', 'YearsEmployed',\n",
       "       'PriorDefault', 'Employed', 'CreditScore', 'DriversLicense', 'ZipCode',\n",
       "       'Income', 'Industry_CommunicationServices',\n",
       "       'Industry_ConsumerDiscretionary', 'Industry_ConsumerStaples',\n",
       "       'Industry_Education', 'Industry_Energy', 'Industry_Financials',\n",
       "       'Industry_Healthcare', 'Industry_Industrials',\n",
       "       'Industry_InformationTechnology', 'Industry_Materials',\n",
       "       'Industry_Real Estate', 'Industry_Research', 'Industry_Transport',\n",
       "       'Industry_Utilities', 'Ethnicity_Asian', 'Ethnicity_Black',\n",
       "       'Ethnicity_Latino', 'Ethnicity_Other', 'Ethnicity_White',\n",
       "       'Citizen_ByBirth', 'Citizen_ByOtherMeans', 'Citizen_Temporary'],\n",
       "      dtype='object')"
      ]
     },
     "execution_count": 16,
     "metadata": {},
     "output_type": "execute_result"
    }
   ],
   "source": [
    "Data.columns"
   ]
  },
  {
   "cell_type": "code",
   "execution_count": 17,
   "id": "5bc5e195",
   "metadata": {},
   "outputs": [
    {
     "data": {
      "text/plain": [
       "(572, 34)"
      ]
     },
     "execution_count": 17,
     "metadata": {},
     "output_type": "execute_result"
    }
   ],
   "source": [
    "Data.shape"
   ]
  },
  {
   "cell_type": "code",
   "execution_count": 18,
   "id": "1453dcd9",
   "metadata": {},
   "outputs": [
    {
     "data": {
      "text/html": [
       "<div>\n",
       "<style scoped>\n",
       "    .dataframe tbody tr th:only-of-type {\n",
       "        vertical-align: middle;\n",
       "    }\n",
       "\n",
       "    .dataframe tbody tr th {\n",
       "        vertical-align: top;\n",
       "    }\n",
       "\n",
       "    .dataframe thead th {\n",
       "        text-align: right;\n",
       "    }\n",
       "</style>\n",
       "<table border=\"1\" class=\"dataframe\">\n",
       "  <thead>\n",
       "    <tr style=\"text-align: right;\">\n",
       "      <th></th>\n",
       "      <th>Gender</th>\n",
       "      <th>Age</th>\n",
       "      <th>Debt</th>\n",
       "      <th>Married</th>\n",
       "      <th>BankCustomer</th>\n",
       "      <th>YearsEmployed</th>\n",
       "      <th>PriorDefault</th>\n",
       "      <th>Employed</th>\n",
       "      <th>CreditScore</th>\n",
       "      <th>DriversLicense</th>\n",
       "      <th>...</th>\n",
       "      <th>Industry_Transport</th>\n",
       "      <th>Industry_Utilities</th>\n",
       "      <th>Ethnicity_Asian</th>\n",
       "      <th>Ethnicity_Black</th>\n",
       "      <th>Ethnicity_Latino</th>\n",
       "      <th>Ethnicity_Other</th>\n",
       "      <th>Ethnicity_White</th>\n",
       "      <th>Citizen_ByBirth</th>\n",
       "      <th>Citizen_ByOtherMeans</th>\n",
       "      <th>Citizen_Temporary</th>\n",
       "    </tr>\n",
       "  </thead>\n",
       "  <tbody>\n",
       "    <tr>\n",
       "      <th>330</th>\n",
       "      <td>0</td>\n",
       "      <td>70</td>\n",
       "      <td>6.0</td>\n",
       "      <td>1</td>\n",
       "      <td>1</td>\n",
       "      <td>0</td>\n",
       "      <td>0</td>\n",
       "      <td>0</td>\n",
       "      <td>0</td>\n",
       "      <td>0</td>\n",
       "      <td>...</td>\n",
       "      <td>0</td>\n",
       "      <td>0</td>\n",
       "      <td>0</td>\n",
       "      <td>0</td>\n",
       "      <td>1</td>\n",
       "      <td>0</td>\n",
       "      <td>0</td>\n",
       "      <td>0</td>\n",
       "      <td>1</td>\n",
       "      <td>0</td>\n",
       "    </tr>\n",
       "    <tr>\n",
       "      <th>445</th>\n",
       "      <td>1</td>\n",
       "      <td>20</td>\n",
       "      <td>10.0</td>\n",
       "      <td>0</td>\n",
       "      <td>0</td>\n",
       "      <td>1</td>\n",
       "      <td>1</td>\n",
       "      <td>0</td>\n",
       "      <td>0</td>\n",
       "      <td>1</td>\n",
       "      <td>...</td>\n",
       "      <td>0</td>\n",
       "      <td>0</td>\n",
       "      <td>0</td>\n",
       "      <td>1</td>\n",
       "      <td>0</td>\n",
       "      <td>0</td>\n",
       "      <td>0</td>\n",
       "      <td>1</td>\n",
       "      <td>0</td>\n",
       "      <td>0</td>\n",
       "    </tr>\n",
       "    <tr>\n",
       "      <th>215</th>\n",
       "      <td>1</td>\n",
       "      <td>32</td>\n",
       "      <td>2.0</td>\n",
       "      <td>1</td>\n",
       "      <td>1</td>\n",
       "      <td>1</td>\n",
       "      <td>0</td>\n",
       "      <td>0</td>\n",
       "      <td>0</td>\n",
       "      <td>1</td>\n",
       "      <td>...</td>\n",
       "      <td>0</td>\n",
       "      <td>0</td>\n",
       "      <td>0</td>\n",
       "      <td>0</td>\n",
       "      <td>0</td>\n",
       "      <td>0</td>\n",
       "      <td>1</td>\n",
       "      <td>1</td>\n",
       "      <td>0</td>\n",
       "      <td>0</td>\n",
       "    </tr>\n",
       "    <tr>\n",
       "      <th>435</th>\n",
       "      <td>1</td>\n",
       "      <td>43</td>\n",
       "      <td>2.0</td>\n",
       "      <td>1</td>\n",
       "      <td>1</td>\n",
       "      <td>1</td>\n",
       "      <td>1</td>\n",
       "      <td>0</td>\n",
       "      <td>0</td>\n",
       "      <td>0</td>\n",
       "      <td>...</td>\n",
       "      <td>0</td>\n",
       "      <td>0</td>\n",
       "      <td>1</td>\n",
       "      <td>0</td>\n",
       "      <td>0</td>\n",
       "      <td>0</td>\n",
       "      <td>0</td>\n",
       "      <td>1</td>\n",
       "      <td>0</td>\n",
       "      <td>0</td>\n",
       "    </tr>\n",
       "    <tr>\n",
       "      <th>134</th>\n",
       "      <td>1</td>\n",
       "      <td>37</td>\n",
       "      <td>3.0</td>\n",
       "      <td>1</td>\n",
       "      <td>1</td>\n",
       "      <td>9</td>\n",
       "      <td>1</td>\n",
       "      <td>0</td>\n",
       "      <td>0</td>\n",
       "      <td>1</td>\n",
       "      <td>...</td>\n",
       "      <td>0</td>\n",
       "      <td>0</td>\n",
       "      <td>0</td>\n",
       "      <td>1</td>\n",
       "      <td>0</td>\n",
       "      <td>0</td>\n",
       "      <td>0</td>\n",
       "      <td>1</td>\n",
       "      <td>0</td>\n",
       "      <td>0</td>\n",
       "    </tr>\n",
       "  </tbody>\n",
       "</table>\n",
       "<p>5 rows × 34 columns</p>\n",
       "</div>"
      ],
      "text/plain": [
       "     Gender  Age  Debt  Married  BankCustomer  YearsEmployed  PriorDefault  \\\n",
       "330       0   70   6.0        1             1              0             0   \n",
       "445       1   20  10.0        0             0              1             1   \n",
       "215       1   32   2.0        1             1              1             0   \n",
       "435       1   43   2.0        1             1              1             1   \n",
       "134       1   37   3.0        1             1              9             1   \n",
       "\n",
       "     Employed  CreditScore  DriversLicense  ...  Industry_Transport  \\\n",
       "330         0            0               0  ...                   0   \n",
       "445         0            0               1  ...                   0   \n",
       "215         0            0               1  ...                   0   \n",
       "435         0            0               0  ...                   0   \n",
       "134         0            0               1  ...                   0   \n",
       "\n",
       "     Industry_Utilities  Ethnicity_Asian  Ethnicity_Black  Ethnicity_Latino  \\\n",
       "330                   0                0                0                 1   \n",
       "445                   0                0                1                 0   \n",
       "215                   0                0                0                 0   \n",
       "435                   0                1                0                 0   \n",
       "134                   0                0                1                 0   \n",
       "\n",
       "     Ethnicity_Other  Ethnicity_White  Citizen_ByBirth  Citizen_ByOtherMeans  \\\n",
       "330                0                0                0                     1   \n",
       "445                0                0                1                     0   \n",
       "215                0                1                1                     0   \n",
       "435                0                0                1                     0   \n",
       "134                0                0                1                     0   \n",
       "\n",
       "     Citizen_Temporary  \n",
       "330                  0  \n",
       "445                  0  \n",
       "215                  0  \n",
       "435                  0  \n",
       "134                  0  \n",
       "\n",
       "[5 rows x 34 columns]"
      ]
     },
     "execution_count": 18,
     "metadata": {},
     "output_type": "execute_result"
    }
   ],
   "source": [
    "Data.sample(5, random_state=999)"
   ]
  },
  {
   "cell_type": "code",
   "execution_count": 19,
   "id": "380cc98e",
   "metadata": {},
   "outputs": [
    {
     "data": {
      "text/plain": [
       "array([1, 0], dtype=int64)"
      ]
     },
     "execution_count": 19,
     "metadata": {},
     "output_type": "execute_result"
    }
   ],
   "source": [
    "target.unique()"
   ]
  },
  {
   "cell_type": "markdown",
   "id": "aab2d067",
   "metadata": {},
   "source": [
    "## Scaling of features"
   ]
  },
  {
   "cell_type": "code",
   "execution_count": 20,
   "id": "1135972e",
   "metadata": {},
   "outputs": [],
   "source": [
    "from sklearn import preprocessing\n",
    "\n",
    "Data_df = Data.copy()\n",
    "\n",
    "Data_scaler = preprocessing.MinMaxScaler()\n",
    "Data_scaler.fit(Data)\n",
    "Data = Data_scaler.fit_transform(Data)"
   ]
  },
  {
   "cell_type": "code",
   "execution_count": 21,
   "id": "75b89acd",
   "metadata": {},
   "outputs": [
    {
     "data": {
      "text/html": [
       "<div>\n",
       "<style scoped>\n",
       "    .dataframe tbody tr th:only-of-type {\n",
       "        vertical-align: middle;\n",
       "    }\n",
       "\n",
       "    .dataframe tbody tr th {\n",
       "        vertical-align: top;\n",
       "    }\n",
       "\n",
       "    .dataframe thead th {\n",
       "        text-align: right;\n",
       "    }\n",
       "</style>\n",
       "<table border=\"1\" class=\"dataframe\">\n",
       "  <thead>\n",
       "    <tr style=\"text-align: right;\">\n",
       "      <th></th>\n",
       "      <th>Gender</th>\n",
       "      <th>Age</th>\n",
       "      <th>Debt</th>\n",
       "      <th>Married</th>\n",
       "      <th>BankCustomer</th>\n",
       "      <th>YearsEmployed</th>\n",
       "      <th>PriorDefault</th>\n",
       "      <th>Employed</th>\n",
       "      <th>CreditScore</th>\n",
       "      <th>DriversLicense</th>\n",
       "      <th>...</th>\n",
       "      <th>Industry_Transport</th>\n",
       "      <th>Industry_Utilities</th>\n",
       "      <th>Ethnicity_Asian</th>\n",
       "      <th>Ethnicity_Black</th>\n",
       "      <th>Ethnicity_Latino</th>\n",
       "      <th>Ethnicity_Other</th>\n",
       "      <th>Ethnicity_White</th>\n",
       "      <th>Citizen_ByBirth</th>\n",
       "      <th>Citizen_ByOtherMeans</th>\n",
       "      <th>Citizen_Temporary</th>\n",
       "    </tr>\n",
       "  </thead>\n",
       "  <tbody>\n",
       "    <tr>\n",
       "      <th>330</th>\n",
       "      <td>0.0</td>\n",
       "      <td>0.838710</td>\n",
       "      <td>0.3750</td>\n",
       "      <td>1.0</td>\n",
       "      <td>1.0</td>\n",
       "      <td>0.00</td>\n",
       "      <td>0.0</td>\n",
       "      <td>0.0</td>\n",
       "      <td>0.0</td>\n",
       "      <td>0.0</td>\n",
       "      <td>...</td>\n",
       "      <td>0.0</td>\n",
       "      <td>0.0</td>\n",
       "      <td>0.0</td>\n",
       "      <td>0.0</td>\n",
       "      <td>1.0</td>\n",
       "      <td>0.0</td>\n",
       "      <td>0.0</td>\n",
       "      <td>0.0</td>\n",
       "      <td>1.0</td>\n",
       "      <td>0.0</td>\n",
       "    </tr>\n",
       "    <tr>\n",
       "      <th>445</th>\n",
       "      <td>1.0</td>\n",
       "      <td>0.032258</td>\n",
       "      <td>0.6250</td>\n",
       "      <td>0.0</td>\n",
       "      <td>0.0</td>\n",
       "      <td>0.05</td>\n",
       "      <td>1.0</td>\n",
       "      <td>0.0</td>\n",
       "      <td>0.0</td>\n",
       "      <td>1.0</td>\n",
       "      <td>...</td>\n",
       "      <td>0.0</td>\n",
       "      <td>0.0</td>\n",
       "      <td>0.0</td>\n",
       "      <td>1.0</td>\n",
       "      <td>0.0</td>\n",
       "      <td>0.0</td>\n",
       "      <td>0.0</td>\n",
       "      <td>1.0</td>\n",
       "      <td>0.0</td>\n",
       "      <td>0.0</td>\n",
       "    </tr>\n",
       "    <tr>\n",
       "      <th>215</th>\n",
       "      <td>1.0</td>\n",
       "      <td>0.225806</td>\n",
       "      <td>0.1250</td>\n",
       "      <td>1.0</td>\n",
       "      <td>1.0</td>\n",
       "      <td>0.05</td>\n",
       "      <td>0.0</td>\n",
       "      <td>0.0</td>\n",
       "      <td>0.0</td>\n",
       "      <td>1.0</td>\n",
       "      <td>...</td>\n",
       "      <td>0.0</td>\n",
       "      <td>0.0</td>\n",
       "      <td>0.0</td>\n",
       "      <td>0.0</td>\n",
       "      <td>0.0</td>\n",
       "      <td>0.0</td>\n",
       "      <td>1.0</td>\n",
       "      <td>1.0</td>\n",
       "      <td>0.0</td>\n",
       "      <td>0.0</td>\n",
       "    </tr>\n",
       "    <tr>\n",
       "      <th>435</th>\n",
       "      <td>1.0</td>\n",
       "      <td>0.403226</td>\n",
       "      <td>0.1250</td>\n",
       "      <td>1.0</td>\n",
       "      <td>1.0</td>\n",
       "      <td>0.05</td>\n",
       "      <td>1.0</td>\n",
       "      <td>0.0</td>\n",
       "      <td>0.0</td>\n",
       "      <td>0.0</td>\n",
       "      <td>...</td>\n",
       "      <td>0.0</td>\n",
       "      <td>0.0</td>\n",
       "      <td>1.0</td>\n",
       "      <td>0.0</td>\n",
       "      <td>0.0</td>\n",
       "      <td>0.0</td>\n",
       "      <td>0.0</td>\n",
       "      <td>1.0</td>\n",
       "      <td>0.0</td>\n",
       "      <td>0.0</td>\n",
       "    </tr>\n",
       "    <tr>\n",
       "      <th>134</th>\n",
       "      <td>1.0</td>\n",
       "      <td>0.306452</td>\n",
       "      <td>0.1875</td>\n",
       "      <td>1.0</td>\n",
       "      <td>1.0</td>\n",
       "      <td>0.45</td>\n",
       "      <td>1.0</td>\n",
       "      <td>0.0</td>\n",
       "      <td>0.0</td>\n",
       "      <td>1.0</td>\n",
       "      <td>...</td>\n",
       "      <td>0.0</td>\n",
       "      <td>0.0</td>\n",
       "      <td>0.0</td>\n",
       "      <td>1.0</td>\n",
       "      <td>0.0</td>\n",
       "      <td>0.0</td>\n",
       "      <td>0.0</td>\n",
       "      <td>1.0</td>\n",
       "      <td>0.0</td>\n",
       "      <td>0.0</td>\n",
       "    </tr>\n",
       "  </tbody>\n",
       "</table>\n",
       "<p>5 rows × 34 columns</p>\n",
       "</div>"
      ],
      "text/plain": [
       "     Gender       Age    Debt  Married  BankCustomer  YearsEmployed  \\\n",
       "330     0.0  0.838710  0.3750      1.0           1.0           0.00   \n",
       "445     1.0  0.032258  0.6250      0.0           0.0           0.05   \n",
       "215     1.0  0.225806  0.1250      1.0           1.0           0.05   \n",
       "435     1.0  0.403226  0.1250      1.0           1.0           0.05   \n",
       "134     1.0  0.306452  0.1875      1.0           1.0           0.45   \n",
       "\n",
       "     PriorDefault  Employed  CreditScore  DriversLicense  ...  \\\n",
       "330           0.0       0.0          0.0             0.0  ...   \n",
       "445           1.0       0.0          0.0             1.0  ...   \n",
       "215           0.0       0.0          0.0             1.0  ...   \n",
       "435           1.0       0.0          0.0             0.0  ...   \n",
       "134           1.0       0.0          0.0             1.0  ...   \n",
       "\n",
       "     Industry_Transport  Industry_Utilities  Ethnicity_Asian  Ethnicity_Black  \\\n",
       "330                 0.0                 0.0              0.0              0.0   \n",
       "445                 0.0                 0.0              0.0              1.0   \n",
       "215                 0.0                 0.0              0.0              0.0   \n",
       "435                 0.0                 0.0              1.0              0.0   \n",
       "134                 0.0                 0.0              0.0              1.0   \n",
       "\n",
       "     Ethnicity_Latino  Ethnicity_Other  Ethnicity_White  Citizen_ByBirth  \\\n",
       "330               1.0              0.0              0.0              0.0   \n",
       "445               0.0              0.0              0.0              1.0   \n",
       "215               0.0              0.0              1.0              1.0   \n",
       "435               0.0              0.0              0.0              1.0   \n",
       "134               0.0              0.0              0.0              1.0   \n",
       "\n",
       "     Citizen_ByOtherMeans  Citizen_Temporary  \n",
       "330                   1.0                0.0  \n",
       "445                   0.0                0.0  \n",
       "215                   0.0                0.0  \n",
       "435                   0.0                0.0  \n",
       "134                   0.0                0.0  \n",
       "\n",
       "[5 rows x 34 columns]"
      ]
     },
     "execution_count": 21,
     "metadata": {},
     "output_type": "execute_result"
    }
   ],
   "source": [
    "pd.DataFrame(Data, columns=Data_df.columns).sample(5, random_state=999)"
   ]
  },
  {
   "cell_type": "code",
   "execution_count": 22,
   "id": "e0c46930",
   "metadata": {},
   "outputs": [
    {
     "data": {
      "text/plain": [
       "(array([0, 1], dtype=int64), array([345, 227], dtype=int64))"
      ]
     },
     "execution_count": 22,
     "metadata": {},
     "output_type": "execute_result"
    }
   ],
   "source": [
    "np.unique(target,return_counts=True)"
   ]
  },
  {
   "cell_type": "code",
   "execution_count": 23,
   "id": "d9e799ea",
   "metadata": {},
   "outputs": [],
   "source": [
    "from sklearn.model_selection import train_test_split\n",
    "D_train,D_test,t_train,t_test=train_test_split(Data,target,test_size=0.3,stratify=target,shuffle=True,random_state=999)"
   ]
  },
  {
   "cell_type": "markdown",
   "id": "4847cdd1",
   "metadata": {},
   "source": [
    "## Feature selection using Random Forest Information"
   ]
  },
  {
   "cell_type": "code",
   "execution_count": 24,
   "id": "f4a990b4",
   "metadata": {},
   "outputs": [
    {
     "data": {
      "text/plain": [
       "array([ 6, 10,  8,  1, 11,  5,  2,  7,  9, 27], dtype=int64)"
      ]
     },
     "execution_count": 24,
     "metadata": {},
     "output_type": "execute_result"
    }
   ],
   "source": [
    "from sklearn.ensemble import RandomForestClassifier\n",
    "from sklearn.metrics import accuracy_score\n",
    "num_features=10\n",
    "model_rfi = RandomForestClassifier(n_estimators=100,random_state=999)\n",
    "model_rfi.fit(Data, target)\n",
    "fs_indices_rfi=np.argsort(model_rfi.feature_importances_)[::-1][0:num_features]\n",
    "fs_indices_rfi"
   ]
  },
  {
   "cell_type": "code",
   "execution_count": 25,
   "id": "b2cd120b",
   "metadata": {},
   "outputs": [
    {
     "data": {
      "text/plain": [
       "array(['PriorDefault', 'ZipCode', 'CreditScore', 'Age', 'Income',\n",
       "       'YearsEmployed', 'Debt', 'Employed', 'DriversLicense',\n",
       "       'Ethnicity_Black'], dtype=object)"
      ]
     },
     "execution_count": 25,
     "metadata": {},
     "output_type": "execute_result"
    }
   ],
   "source": [
    "best_features_rfi=Data_df.columns[fs_indices_rfi].values\n",
    "best_features_rfi"
   ]
  },
  {
   "cell_type": "code",
   "execution_count": 26,
   "id": "057f5c59",
   "metadata": {},
   "outputs": [
    {
     "data": {
      "text/plain": [
       "array([0.26334526, 0.08389916, 0.07965178, 0.07704506, 0.07476619,\n",
       "       0.06404133, 0.06347972, 0.05970729, 0.01689366, 0.01637188])"
      ]
     },
     "execution_count": 26,
     "metadata": {},
     "output_type": "execute_result"
    }
   ],
   "source": [
    "feature_importances_rfi=model_rfi.feature_importances_[fs_indices_rfi]\n",
    "feature_importances_rfi"
   ]
  },
  {
   "cell_type": "code",
   "execution_count": 27,
   "id": "b924283f",
   "metadata": {},
   "outputs": [],
   "source": [
    "import matplotlib.pyplot as plt\n",
    "%matplotlib inline \n",
    "%config InlineBackend.figure_format = 'retina'\n",
    "plt.style.use(\"ggplot\")\n",
    "\n",
    "def plot_imp(best_features, scores, method_name):   \n",
    "    plt.barh(best_features, scores)\n",
    "    plt.title(method_name + ' Feature Importances')\n",
    "    plt.xlabel(\"Importance\")\n",
    "    plt.ylabel(\"Features\")\n",
    "    plt.show()"
   ]
  },
  {
   "cell_type": "code",
   "execution_count": 28,
   "id": "b4e689c4",
   "metadata": {
    "scrolled": false
   },
   "outputs": [
    {
     "data": {
      "image/png": "[encoded data removed]",
      "text/plain": [
       "<Figure size 640x480 with 1 Axes>"
      ]
     },
     "metadata": {
      "image/png": {
       "height": 459,
       "width": 653
      }
     },
     "output_type": "display_data"
    }
   ],
   "source": [
    "plot_imp(best_features_rfi, feature_importances_rfi, 'Random Forest')"
   ]
  },
  {
   "cell_type": "markdown",
   "id": "b1cdd056",
   "metadata": {},
   "source": [
    "### Generating Train and test set with 10 selected features."
   ]
  },
  {
   "cell_type": "code",
   "execution_count": 29,
   "id": "c6f1f5af",
   "metadata": {},
   "outputs": [],
   "source": [
    "D_Train_fs = D_train[:, fs_indices_rfi]\n",
    "D_Test_fs  = D_test[:, fs_indices_rfi]"
   ]
  },
  {
   "cell_type": "markdown",
   "id": "8e3fa138",
   "metadata": {},
   "source": [
    "### Selecting 20 best features from RFI"
   ]
  },
  {
   "cell_type": "code",
   "execution_count": 30,
   "id": "dac32329",
   "metadata": {},
   "outputs": [
    {
     "data": {
      "text/plain": [
       "array([ 6, 10,  8,  1, 11,  5,  2,  7,  9, 27,  3,  4,  0, 21, 25, 16, 30,\n",
       "       19, 28, 18], dtype=int64)"
      ]
     },
     "execution_count": 30,
     "metadata": {},
     "output_type": "execute_result"
    }
   ],
   "source": [
    "num_features=20\n",
    "model_rfi_2 = RandomForestClassifier(n_estimators=100,random_state=999)\n",
    "model_rfi_2.fit(Data, target)\n",
    "fs_indices_rfi_2=np.argsort(model_rfi_2.feature_importances_)[::-1][0:num_features]\n",
    "fs_indices_rfi_2"
   ]
  },
  {
   "cell_type": "code",
   "execution_count": 31,
   "id": "435b60db",
   "metadata": {},
   "outputs": [
    {
     "data": {
      "text/plain": [
       "array(['PriorDefault', 'ZipCode', 'CreditScore', 'Age', 'Income',\n",
       "       'YearsEmployed', 'Debt', 'Employed', 'DriversLicense',\n",
       "       'Ethnicity_Black', 'Married', 'BankCustomer', 'Gender',\n",
       "       'Industry_Materials', 'Industry_Utilities', 'Industry_Energy',\n",
       "       'Ethnicity_White', 'Industry_Industrials', 'Ethnicity_Latino',\n",
       "       'Industry_Healthcare'], dtype=object)"
      ]
     },
     "execution_count": 31,
     "metadata": {},
     "output_type": "execute_result"
    }
   ],
   "source": [
    "best_features_rfi_2=Data_df.columns[fs_indices_rfi_2].values\n",
    "best_features_rfi_2"
   ]
  },
  {
   "cell_type": "code",
   "execution_count": 32,
   "id": "86ad0ad8",
   "metadata": {
    "scrolled": true
   },
   "outputs": [
    {
     "data": {
      "text/plain": [
       "array([0.26334526, 0.08389916, 0.07965178, 0.07704506, 0.07476619,\n",
       "       0.06404133, 0.06347972, 0.05970729, 0.01689366, 0.01637188,\n",
       "       0.01423997, 0.01420152, 0.0136295 , 0.01290869, 0.01222063,\n",
       "       0.01186972, 0.0111765 , 0.01058225, 0.00926603, 0.00887601])"
      ]
     },
     "execution_count": 32,
     "metadata": {},
     "output_type": "execute_result"
    }
   ],
   "source": [
    "feature_importances_rfi_2=model_rfi_2.feature_importances_[fs_indices_rfi_2]\n",
    "feature_importances_rfi_2"
   ]
  },
  {
   "cell_type": "markdown",
   "id": "1ab3af7a",
   "metadata": {},
   "source": [
    "### Generating Train and test set with 20 selected features."
   ]
  },
  {
   "cell_type": "code",
   "execution_count": 33,
   "id": "f072fbc4",
   "metadata": {},
   "outputs": [],
   "source": [
    "D_Train_fs_2 = D_train[:, fs_indices_rfi_2]\n",
    "D_Test_fs_2  = D_test[:, fs_indices_rfi_2]"
   ]
  },
  {
   "cell_type": "markdown",
   "id": "298f231a",
   "metadata": {},
   "source": [
    "## Modelling fititng & Tuning"
   ]
  },
  {
   "cell_type": "markdown",
   "id": "1d07e9a4",
   "metadata": {},
   "source": [
    "### Decision tree "
   ]
  },
  {
   "cell_type": "code",
   "execution_count": 34,
   "id": "4093d107",
   "metadata": {},
   "outputs": [
    {
     "name": "stdout",
     "output_type": "stream",
     "text": [
      "Fitting 5 folds for each of 16 candidates, totalling 80 fits\n"
     ]
    },
    {
     "data": {
      "text/plain": [
       "{'max_depth': 3, 'min_samples_split': 5}"
      ]
     },
     "execution_count": 34,
     "metadata": {},
     "output_type": "execute_result"
    }
   ],
   "source": [
    "num_features = 5\n",
    "scoring_metric = 'roc_auc'\n",
    "from sklearn.tree import DecisionTreeClassifier\n",
    "from sklearn.model_selection import StratifiedKFold, GridSearchCV\n",
    "cv_method_train = StratifiedKFold(n_splits=5, shuffle=True, random_state=999)\n",
    "clf = DecisionTreeClassifier(random_state=999)\n",
    "params_DT = {\n",
    "             'max_depth': [3, 5, 7, 10],\n",
    "             'min_samples_split': [2, 5, 15, 20]}\n",
    "cv_method_d = StratifiedKFold(n_splits=5, shuffle=True, random_state=999)\n",
    "gs_DT = GridSearchCV(estimator=clf, \n",
    "                      param_grid=params_DT, \n",
    "                      cv=cv_method_train,\n",
    "                      verbose=1, \n",
    "                      scoring=scoring_metric,\n",
    "                      n_jobs=-2,\n",
    "                      return_train_score=True)\n",
    "gs_DT.fit(D_Train_fs, t_train)\n",
    "gs_DT.best_params_"
   ]
  },
  {
   "cell_type": "markdown",
   "id": "d5927ad5",
   "metadata": {},
   "source": [
    "### Storing the results of grid search in a new dataframe"
   ]
  },
  {
   "cell_type": "code",
   "execution_count": 35,
   "id": "2bb49fe6",
   "metadata": {},
   "outputs": [
    {
     "data": {
      "text/plain": [
       "Index(['max_depth', 'min_samples_split', 'test_score'], dtype='object')"
      ]
     },
     "execution_count": 35,
     "metadata": {},
     "output_type": "execute_result"
    }
   ],
   "source": [
    "results_DT = pd.DataFrame(gs_DT.cv_results_['params'])\n",
    "results_DT['test_score'] = gs_DT.cv_results_['mean_test_score']\n",
    "results_DT.columns"
   ]
  },
  {
   "cell_type": "code",
   "execution_count": 36,
   "id": "78087a1a",
   "metadata": {},
   "outputs": [
    {
     "data": {
      "text/html": [
       "<div>\n",
       "<style scoped>\n",
       "    .dataframe tbody tr th:only-of-type {\n",
       "        vertical-align: middle;\n",
       "    }\n",
       "\n",
       "    .dataframe tbody tr th {\n",
       "        vertical-align: top;\n",
       "    }\n",
       "\n",
       "    .dataframe thead th {\n",
       "        text-align: right;\n",
       "    }\n",
       "</style>\n",
       "<table border=\"1\" class=\"dataframe\">\n",
       "  <thead>\n",
       "    <tr style=\"text-align: right;\">\n",
       "      <th></th>\n",
       "      <th>max_depth</th>\n",
       "      <th>min_samples_split</th>\n",
       "      <th>test_score</th>\n",
       "    </tr>\n",
       "  </thead>\n",
       "  <tbody>\n",
       "    <tr>\n",
       "      <th>0</th>\n",
       "      <td>3</td>\n",
       "      <td>2</td>\n",
       "      <td>0.888166</td>\n",
       "    </tr>\n",
       "    <tr>\n",
       "      <th>1</th>\n",
       "      <td>3</td>\n",
       "      <td>5</td>\n",
       "      <td>0.890901</td>\n",
       "    </tr>\n",
       "    <tr>\n",
       "      <th>2</th>\n",
       "      <td>3</td>\n",
       "      <td>15</td>\n",
       "      <td>0.890901</td>\n",
       "    </tr>\n",
       "    <tr>\n",
       "      <th>3</th>\n",
       "      <td>3</td>\n",
       "      <td>20</td>\n",
       "      <td>0.890901</td>\n",
       "    </tr>\n",
       "    <tr>\n",
       "      <th>4</th>\n",
       "      <td>5</td>\n",
       "      <td>2</td>\n",
       "      <td>0.847774</td>\n",
       "    </tr>\n",
       "    <tr>\n",
       "      <th>5</th>\n",
       "      <td>5</td>\n",
       "      <td>5</td>\n",
       "      <td>0.851615</td>\n",
       "    </tr>\n",
       "    <tr>\n",
       "      <th>6</th>\n",
       "      <td>5</td>\n",
       "      <td>15</td>\n",
       "      <td>0.868209</td>\n",
       "    </tr>\n",
       "    <tr>\n",
       "      <th>7</th>\n",
       "      <td>5</td>\n",
       "      <td>20</td>\n",
       "      <td>0.876995</td>\n",
       "    </tr>\n",
       "    <tr>\n",
       "      <th>8</th>\n",
       "      <td>7</td>\n",
       "      <td>2</td>\n",
       "      <td>0.809144</td>\n",
       "    </tr>\n",
       "    <tr>\n",
       "      <th>9</th>\n",
       "      <td>7</td>\n",
       "      <td>5</td>\n",
       "      <td>0.822481</td>\n",
       "    </tr>\n",
       "    <tr>\n",
       "      <th>10</th>\n",
       "      <td>7</td>\n",
       "      <td>15</td>\n",
       "      <td>0.864105</td>\n",
       "    </tr>\n",
       "    <tr>\n",
       "      <th>11</th>\n",
       "      <td>7</td>\n",
       "      <td>20</td>\n",
       "      <td>0.870745</td>\n",
       "    </tr>\n",
       "    <tr>\n",
       "      <th>12</th>\n",
       "      <td>10</td>\n",
       "      <td>2</td>\n",
       "      <td>0.785343</td>\n",
       "    </tr>\n",
       "    <tr>\n",
       "      <th>13</th>\n",
       "      <td>10</td>\n",
       "      <td>5</td>\n",
       "      <td>0.803703</td>\n",
       "    </tr>\n",
       "    <tr>\n",
       "      <th>14</th>\n",
       "      <td>10</td>\n",
       "      <td>15</td>\n",
       "      <td>0.850824</td>\n",
       "    </tr>\n",
       "    <tr>\n",
       "      <th>15</th>\n",
       "      <td>10</td>\n",
       "      <td>20</td>\n",
       "      <td>0.863454</td>\n",
       "    </tr>\n",
       "  </tbody>\n",
       "</table>\n",
       "</div>"
      ],
      "text/plain": [
       "    max_depth  min_samples_split  test_score\n",
       "0           3                  2    0.888166\n",
       "1           3                  5    0.890901\n",
       "2           3                 15    0.890901\n",
       "3           3                 20    0.890901\n",
       "4           5                  2    0.847774\n",
       "5           5                  5    0.851615\n",
       "6           5                 15    0.868209\n",
       "7           5                 20    0.876995\n",
       "8           7                  2    0.809144\n",
       "9           7                  5    0.822481\n",
       "10          7                 15    0.864105\n",
       "11          7                 20    0.870745\n",
       "12         10                  2    0.785343\n",
       "13         10                  5    0.803703\n",
       "14         10                 15    0.850824\n",
       "15         10                 20    0.863454"
      ]
     },
     "execution_count": 36,
     "metadata": {},
     "output_type": "execute_result"
    }
   ],
   "source": [
    "results_DT"
   ]
  },
  {
   "cell_type": "code",
   "execution_count": 37,
   "id": "07754cc4",
   "metadata": {
    "scrolled": true
   },
   "outputs": [
    {
     "data": {
      "text/plain": [
       "0.8909007605058153"
      ]
     },
     "execution_count": 37,
     "metadata": {},
     "output_type": "execute_result"
    }
   ],
   "source": [
    "gs_DT.best_score_"
   ]
  },
  {
   "cell_type": "markdown",
   "id": "1bfaa69c",
   "metadata": {},
   "source": [
    "### Fitting the model with 20 selcted features for comparison"
   ]
  },
  {
   "cell_type": "code",
   "execution_count": 38,
   "id": "c03ad1c6",
   "metadata": {
    "scrolled": true
   },
   "outputs": [
    {
     "name": "stdout",
     "output_type": "stream",
     "text": [
      "Fitting 5 folds for each of 16 candidates, totalling 80 fits\n"
     ]
    },
    {
     "data": {
      "text/plain": [
       "{'max_depth': 3, 'min_samples_split': 5}"
      ]
     },
     "execution_count": 38,
     "metadata": {},
     "output_type": "execute_result"
    }
   ],
   "source": [
    "gs_DT.fit(D_Train_fs_2, t_train)\n",
    "gs_DT.best_params_"
   ]
  },
  {
   "cell_type": "markdown",
   "id": "1cb6ff3d",
   "metadata": {},
   "source": [
    "### Score with 20 features"
   ]
  },
  {
   "cell_type": "code",
   "execution_count": 39,
   "id": "06c91823",
   "metadata": {
    "scrolled": true
   },
   "outputs": [
    {
     "data": {
      "text/plain": [
       "0.8946197128044766"
      ]
     },
     "execution_count": 39,
     "metadata": {},
     "output_type": "execute_result"
    }
   ],
   "source": [
    "gs_DT.best_score_"
   ]
  },
  {
   "cell_type": "markdown",
   "id": "32c15a33",
   "metadata": {},
   "source": [
    "### Fitting the model with whole set of features"
   ]
  },
  {
   "cell_type": "code",
   "execution_count": 40,
   "id": "0a008645",
   "metadata": {
    "scrolled": false
   },
   "outputs": [
    {
     "name": "stdout",
     "output_type": "stream",
     "text": [
      "Fitting 5 folds for each of 16 candidates, totalling 80 fits\n"
     ]
    },
    {
     "data": {
      "text/plain": [
       "{'max_depth': 3, 'min_samples_split': 5}"
      ]
     },
     "execution_count": 40,
     "metadata": {},
     "output_type": "execute_result"
    }
   ],
   "source": [
    "gs_DT.fit(D_train, t_train)\n",
    "gs_DT.best_params_"
   ]
  },
  {
   "cell_type": "markdown",
   "id": "a5615a44",
   "metadata": {},
   "source": [
    "### Score with full set of features"
   ]
  },
  {
   "cell_type": "code",
   "execution_count": 41,
   "id": "8cb266ef",
   "metadata": {
    "scrolled": true
   },
   "outputs": [
    {
     "data": {
      "text/plain": [
       "0.8892087807905421"
      ]
     },
     "execution_count": 41,
     "metadata": {},
     "output_type": "execute_result"
    }
   ],
   "source": [
    "gs_DT.best_score_"
   ]
  },
  {
   "cell_type": "markdown",
   "id": "445f4786",
   "metadata": {},
   "source": [
    "As the difference between the `hyperparameter combinations` is not really much when conditioned on the number of features selected. Hence, we visualize the results of the grid search corresponding to **10 selected features.**"
   ]
  },
  {
   "cell_type": "markdown",
   "id": "efc5059b",
   "metadata": {},
   "source": [
    "### Plotting the DT for different split values for comparison"
   ]
  },
  {
   "cell_type": "code",
   "execution_count": 42,
   "id": "9dc5d480",
   "metadata": {},
   "outputs": [
    {
     "data": {
      "image/png": "[encoded data removed]",
      "text/plain": [
       "<Figure size 640x480 with 1 Axes>"
      ]
     },
     "metadata": {
      "image/png": {
       "height": 459,
       "width": 578
      }
     },
     "output_type": "display_data"
    }
   ],
   "source": [
    "for i in [2, 5, 15, 20, 25]:\n",
    "    temp = results_DT[results_DT['min_samples_split'] == i]\n",
    "    temp_average = temp.groupby('max_depth').agg({'test_score': 'mean'})\n",
    "    plt.plot(temp_average, marker = '.', label = 'min sample split: ' + str(i))\n",
    "    \n",
    "    \n",
    "plt.legend()\n",
    "plt.xlabel('Max Depth')\n",
    "plt.ylabel(\"Mean CV Score\")\n",
    "plt.title(\"DT Performance Comparison\")\n",
    "plt.show()"
   ]
  },
  {
   "cell_type": "markdown",
   "id": "eddc2500",
   "metadata": {},
   "source": [
    "## KNN"
   ]
  },
  {
   "cell_type": "code",
   "execution_count": 43,
   "id": "97a59a58",
   "metadata": {},
   "outputs": [],
   "source": [
    "from sklearn.neighbors import KNeighborsClassifier\n",
    "from sklearn.model_selection import StratifiedKFold,GridSearchCV\n",
    "knn=KNeighborsClassifier()\n",
    "params_KNN={'n_neighbors':[1,2,3,4,5,6,7,8,9,10],'p':[1,2]}\n",
    "gs_KNN= GridSearchCV(estimator=knn,param_grid=params_KNN,\n",
    "                                   cv=cv_method_train,\n",
    "                                   verbose=1,\n",
    "                                   scoring='roc_auc',\n",
    "                                   return_train_score=True)"
   ]
  },
  {
   "cell_type": "markdown",
   "id": "f39c9d0e",
   "metadata": {},
   "source": [
    "### Fitting the model with 10 features obtained from RFI"
   ]
  },
  {
   "cell_type": "code",
   "execution_count": 44,
   "id": "c3f0cce6",
   "metadata": {
    "scrolled": true
   },
   "outputs": [
    {
     "name": "stdout",
     "output_type": "stream",
     "text": [
      "Fitting 5 folds for each of 20 candidates, totalling 100 fits\n"
     ]
    },
    {
     "data": {
      "text/plain": [
       "GridSearchCV(cv=StratifiedKFold(n_splits=5, random_state=999, shuffle=True),\n",
       "             estimator=KNeighborsClassifier(),\n",
       "             param_grid={'n_neighbors': [1, 2, 3, 4, 5, 6, 7, 8, 9, 10],\n",
       "                         'p': [1, 2]},\n",
       "             return_train_score=True, scoring='roc_auc', verbose=1)"
      ]
     },
     "execution_count": 44,
     "metadata": {},
     "output_type": "execute_result"
    }
   ],
   "source": [
    "gs_KNN.fit(D_Train_fs,t_train)   "
   ]
  },
  {
   "cell_type": "markdown",
   "id": "4a3d9dc4",
   "metadata": {},
   "source": [
    "### Retrieving the best parameters and best score after fitting on training data"
   ]
  },
  {
   "cell_type": "code",
   "execution_count": 45,
   "id": "3bb011e5",
   "metadata": {},
   "outputs": [
    {
     "data": {
      "text/plain": [
       "{'n_neighbors': 9, 'p': 1}"
      ]
     },
     "execution_count": 45,
     "metadata": {},
     "output_type": "execute_result"
    }
   ],
   "source": [
    "gs_KNN.best_params_"
   ]
  },
  {
   "cell_type": "code",
   "execution_count": 46,
   "id": "7ff2bf9e",
   "metadata": {},
   "outputs": [
    {
     "data": {
      "text/plain": [
       "0.892691360818521"
      ]
     },
     "execution_count": 46,
     "metadata": {},
     "output_type": "execute_result"
    }
   ],
   "source": [
    "gs_KNN.best_score_"
   ]
  },
  {
   "cell_type": "code",
   "execution_count": 47,
   "id": "df8c1787",
   "metadata": {},
   "outputs": [
    {
     "data": {
      "text/plain": [
       "array([0.73567383, 0.75964793, 0.83321633, 0.82698527, 0.85811329,\n",
       "       0.84789048, 0.86736245, 0.86381816, 0.86713774, 0.86934764,\n",
       "       0.88290606, 0.87771449, 0.88635148, 0.88118395, 0.89230074,\n",
       "       0.88274062, 0.89269136, 0.88586708, 0.89106813, 0.8835328 ])"
      ]
     },
     "execution_count": 47,
     "metadata": {},
     "output_type": "execute_result"
    }
   ],
   "source": [
    "gs_KNN.cv_results_['mean_test_score']"
   ]
  },
  {
   "cell_type": "code",
   "execution_count": 48,
   "id": "b24a9718",
   "metadata": {},
   "outputs": [],
   "source": [
    "results_KNN = pd.DataFrame(gs_KNN.cv_results_['params'])"
   ]
  },
  {
   "cell_type": "code",
   "execution_count": 49,
   "id": "c0d29408",
   "metadata": {
    "scrolled": true
   },
   "outputs": [],
   "source": [
    "results_KNN['test_score'] = gs_KNN.cv_results_['mean_test_score']"
   ]
  },
  {
   "cell_type": "markdown",
   "id": "dd8ba8f2",
   "metadata": {},
   "source": [
    "### Comparison on test score produced by using p=1,2 for each K value"
   ]
  },
  {
   "cell_type": "code",
   "execution_count": 50,
   "id": "a67505f4",
   "metadata": {
    "scrolled": true
   },
   "outputs": [
    {
     "data": {
      "text/html": [
       "<div>\n",
       "<style scoped>\n",
       "    .dataframe tbody tr th:only-of-type {\n",
       "        vertical-align: middle;\n",
       "    }\n",
       "\n",
       "    .dataframe tbody tr th {\n",
       "        vertical-align: top;\n",
       "    }\n",
       "\n",
       "    .dataframe thead th {\n",
       "        text-align: right;\n",
       "    }\n",
       "</style>\n",
       "<table border=\"1\" class=\"dataframe\">\n",
       "  <thead>\n",
       "    <tr style=\"text-align: right;\">\n",
       "      <th></th>\n",
       "      <th>n_neighbors</th>\n",
       "      <th>p</th>\n",
       "      <th>test_score</th>\n",
       "      <th>metric</th>\n",
       "    </tr>\n",
       "  </thead>\n",
       "  <tbody>\n",
       "    <tr>\n",
       "      <th>0</th>\n",
       "      <td>1</td>\n",
       "      <td>1</td>\n",
       "      <td>0.735674</td>\n",
       "      <td>Manhattan</td>\n",
       "    </tr>\n",
       "    <tr>\n",
       "      <th>1</th>\n",
       "      <td>1</td>\n",
       "      <td>2</td>\n",
       "      <td>0.759648</td>\n",
       "      <td>Euclidean</td>\n",
       "    </tr>\n",
       "    <tr>\n",
       "      <th>2</th>\n",
       "      <td>2</td>\n",
       "      <td>1</td>\n",
       "      <td>0.833216</td>\n",
       "      <td>Manhattan</td>\n",
       "    </tr>\n",
       "    <tr>\n",
       "      <th>3</th>\n",
       "      <td>2</td>\n",
       "      <td>2</td>\n",
       "      <td>0.826985</td>\n",
       "      <td>Euclidean</td>\n",
       "    </tr>\n",
       "    <tr>\n",
       "      <th>4</th>\n",
       "      <td>3</td>\n",
       "      <td>1</td>\n",
       "      <td>0.858113</td>\n",
       "      <td>Manhattan</td>\n",
       "    </tr>\n",
       "    <tr>\n",
       "      <th>5</th>\n",
       "      <td>3</td>\n",
       "      <td>2</td>\n",
       "      <td>0.847890</td>\n",
       "      <td>Euclidean</td>\n",
       "    </tr>\n",
       "    <tr>\n",
       "      <th>6</th>\n",
       "      <td>4</td>\n",
       "      <td>1</td>\n",
       "      <td>0.867362</td>\n",
       "      <td>Manhattan</td>\n",
       "    </tr>\n",
       "    <tr>\n",
       "      <th>7</th>\n",
       "      <td>4</td>\n",
       "      <td>2</td>\n",
       "      <td>0.863818</td>\n",
       "      <td>Euclidean</td>\n",
       "    </tr>\n",
       "    <tr>\n",
       "      <th>8</th>\n",
       "      <td>5</td>\n",
       "      <td>1</td>\n",
       "      <td>0.867138</td>\n",
       "      <td>Manhattan</td>\n",
       "    </tr>\n",
       "    <tr>\n",
       "      <th>9</th>\n",
       "      <td>5</td>\n",
       "      <td>2</td>\n",
       "      <td>0.869348</td>\n",
       "      <td>Euclidean</td>\n",
       "    </tr>\n",
       "    <tr>\n",
       "      <th>10</th>\n",
       "      <td>6</td>\n",
       "      <td>1</td>\n",
       "      <td>0.882906</td>\n",
       "      <td>Manhattan</td>\n",
       "    </tr>\n",
       "    <tr>\n",
       "      <th>11</th>\n",
       "      <td>6</td>\n",
       "      <td>2</td>\n",
       "      <td>0.877714</td>\n",
       "      <td>Euclidean</td>\n",
       "    </tr>\n",
       "    <tr>\n",
       "      <th>12</th>\n",
       "      <td>7</td>\n",
       "      <td>1</td>\n",
       "      <td>0.886351</td>\n",
       "      <td>Manhattan</td>\n",
       "    </tr>\n",
       "    <tr>\n",
       "      <th>13</th>\n",
       "      <td>7</td>\n",
       "      <td>2</td>\n",
       "      <td>0.881184</td>\n",
       "      <td>Euclidean</td>\n",
       "    </tr>\n",
       "    <tr>\n",
       "      <th>14</th>\n",
       "      <td>8</td>\n",
       "      <td>1</td>\n",
       "      <td>0.892301</td>\n",
       "      <td>Manhattan</td>\n",
       "    </tr>\n",
       "    <tr>\n",
       "      <th>15</th>\n",
       "      <td>8</td>\n",
       "      <td>2</td>\n",
       "      <td>0.882741</td>\n",
       "      <td>Euclidean</td>\n",
       "    </tr>\n",
       "    <tr>\n",
       "      <th>16</th>\n",
       "      <td>9</td>\n",
       "      <td>1</td>\n",
       "      <td>0.892691</td>\n",
       "      <td>Manhattan</td>\n",
       "    </tr>\n",
       "    <tr>\n",
       "      <th>17</th>\n",
       "      <td>9</td>\n",
       "      <td>2</td>\n",
       "      <td>0.885867</td>\n",
       "      <td>Euclidean</td>\n",
       "    </tr>\n",
       "    <tr>\n",
       "      <th>18</th>\n",
       "      <td>10</td>\n",
       "      <td>1</td>\n",
       "      <td>0.891068</td>\n",
       "      <td>Manhattan</td>\n",
       "    </tr>\n",
       "    <tr>\n",
       "      <th>19</th>\n",
       "      <td>10</td>\n",
       "      <td>2</td>\n",
       "      <td>0.883533</td>\n",
       "      <td>Euclidean</td>\n",
       "    </tr>\n",
       "  </tbody>\n",
       "</table>\n",
       "</div>"
      ],
      "text/plain": [
       "    n_neighbors  p  test_score     metric\n",
       "0             1  1    0.735674  Manhattan\n",
       "1             1  2    0.759648  Euclidean\n",
       "2             2  1    0.833216  Manhattan\n",
       "3             2  2    0.826985  Euclidean\n",
       "4             3  1    0.858113  Manhattan\n",
       "5             3  2    0.847890  Euclidean\n",
       "6             4  1    0.867362  Manhattan\n",
       "7             4  2    0.863818  Euclidean\n",
       "8             5  1    0.867138  Manhattan\n",
       "9             5  2    0.869348  Euclidean\n",
       "10            6  1    0.882906  Manhattan\n",
       "11            6  2    0.877714  Euclidean\n",
       "12            7  1    0.886351  Manhattan\n",
       "13            7  2    0.881184  Euclidean\n",
       "14            8  1    0.892301  Manhattan\n",
       "15            8  2    0.882741  Euclidean\n",
       "16            9  1    0.892691  Manhattan\n",
       "17            9  2    0.885867  Euclidean\n",
       "18           10  1    0.891068  Manhattan\n",
       "19           10  2    0.883533  Euclidean"
      ]
     },
     "execution_count": 50,
     "metadata": {},
     "output_type": "execute_result"
    }
   ],
   "source": [
    "results_KNN['metric'] = results_KNN['p'].replace([1,2], [\"Manhattan\", \"Euclidean\"])\n",
    "results_KNN"
   ]
  },
  {
   "cell_type": "markdown",
   "id": "abb3799c",
   "metadata": {},
   "source": [
    "### Ftiing the model with 20 features obtained from RFI"
   ]
  },
  {
   "cell_type": "code",
   "execution_count": 51,
   "id": "26f03e17",
   "metadata": {
    "scrolled": true
   },
   "outputs": [
    {
     "name": "stdout",
     "output_type": "stream",
     "text": [
      "Fitting 5 folds for each of 20 candidates, totalling 100 fits\n"
     ]
    },
    {
     "data": {
      "text/plain": [
       "{'n_neighbors': 9, 'p': 1}"
      ]
     },
     "execution_count": 51,
     "metadata": {},
     "output_type": "execute_result"
    }
   ],
   "source": [
    "gs_KNN.fit(D_Train_fs_2,t_train)   \n",
    "gs_KNN.best_params_"
   ]
  },
  {
   "cell_type": "markdown",
   "id": "133cbc66",
   "metadata": {},
   "source": [
    "### Score with 20 features"
   ]
  },
  {
   "cell_type": "code",
   "execution_count": 52,
   "id": "b2d5ab4f",
   "metadata": {
    "scrolled": true
   },
   "outputs": [
    {
     "data": {
      "text/plain": [
       "0.8910095817560896"
      ]
     },
     "execution_count": 52,
     "metadata": {},
     "output_type": "execute_result"
    }
   ],
   "source": [
    "gs_KNN.best_score_"
   ]
  },
  {
   "cell_type": "markdown",
   "id": "e168de5b",
   "metadata": {},
   "source": [
    "### Fitting the model with whole set of features"
   ]
  },
  {
   "cell_type": "code",
   "execution_count": 53,
   "id": "0fc397ad",
   "metadata": {
    "scrolled": true
   },
   "outputs": [
    {
     "name": "stdout",
     "output_type": "stream",
     "text": [
      "Fitting 5 folds for each of 20 candidates, totalling 100 fits\n"
     ]
    },
    {
     "data": {
      "text/plain": [
       "{'n_neighbors': 10, 'p': 2}"
      ]
     },
     "execution_count": 53,
     "metadata": {},
     "output_type": "execute_result"
    }
   ],
   "source": [
    "gs_KNN.fit(D_train,t_train)   \n",
    "gs_KNN.best_params_"
   ]
  },
  {
   "cell_type": "markdown",
   "id": "c0e2e097",
   "metadata": {},
   "source": [
    "### Score with all the features"
   ]
  },
  {
   "cell_type": "code",
   "execution_count": 54,
   "id": "f7a9394b",
   "metadata": {},
   "outputs": [
    {
     "data": {
      "text/plain": [
       "0.8759661475477287"
      ]
     },
     "execution_count": 54,
     "metadata": {},
     "output_type": "execute_result"
    }
   ],
   "source": [
    "gs_KNN.best_score_"
   ]
  },
  {
   "cell_type": "markdown",
   "id": "6aecdfb8",
   "metadata": {},
   "source": [
    "As the difference between the `hyperparameter combinations` is not really much when conditioned on the number of features selected. Hence, we visualize the results of the grid search corresponding to **10 selected features.**"
   ]
  },
  {
   "cell_type": "markdown",
   "id": "b24ac21d",
   "metadata": {},
   "source": [
    "### Line plot showing KNN performance for p=1,2"
   ]
  },
  {
   "cell_type": "code",
   "execution_count": 55,
   "id": "3333d0a1",
   "metadata": {},
   "outputs": [
    {
     "data": {
      "image/png": "[encoded data removed]",
      "text/plain": [
       "<Figure size 640x480 with 1 Axes>"
      ]
     },
     "metadata": {
      "image/png": {
       "height": 459,
       "width": 578
      }
     },
     "output_type": "display_data"
    }
   ],
   "source": [
    "for i in [\"Manhattan\", \"Euclidean\"]:\n",
    "    temp = results_KNN[results_KNN['metric'] == i]\n",
    "    plt.plot(temp['n_neighbors'], temp['test_score'], marker = '.', label = i)\n",
    "    \n",
    "plt.legend()\n",
    "plt.xlabel('Number of Neighbors')\n",
    "plt.ylabel(\"Mean CV Score\")\n",
    "plt.title(\"KNN Performance Comparison\")\n",
    "plt.show()"
   ]
  },
  {
   "cell_type": "markdown",
   "id": "11ece71c",
   "metadata": {},
   "source": [
    "## Gaussian Naive Bayes"
   ]
  },
  {
   "cell_type": "code",
   "execution_count": 56,
   "id": "323f7a95",
   "metadata": {
    "scrolled": true
   },
   "outputs": [
    {
     "name": "stdout",
     "output_type": "stream",
     "text": [
      "Fitting 5 folds for each of 50 candidates, totalling 250 fits\n"
     ]
    }
   ],
   "source": [
    "from sklearn.naive_bayes import GaussianNB\n",
    "from sklearn.preprocessing import PowerTransformer\n",
    "\n",
    "nb_classifier = GaussianNB()\n",
    "\n",
    "params_NB = {'var_smoothing': np.logspace(1,-2, num=50)}\n",
    "\n",
    "gs_NB = GridSearchCV(estimator=nb_classifier, \n",
    "                     param_grid=params_NB, \n",
    "                     cv=cv_method_train,\n",
    "                     verbose=1, \n",
    "                     scoring=scoring_metric)\n",
    "\n",
    "D_Train_fs_transformed = PowerTransformer().fit_transform(D_Train_fs)\n",
    "\n",
    "gs_NB.fit(D_Train_fs_transformed, t_train);"
   ]
  },
  {
   "cell_type": "markdown",
   "id": "08d306aa",
   "metadata": {},
   "source": [
    "### Retrieving the best parameter after fitting on training data"
   ]
  },
  {
   "cell_type": "code",
   "execution_count": 57,
   "id": "a32962ef",
   "metadata": {},
   "outputs": [
    {
     "data": {
      "text/plain": [
       "{'var_smoothing': 0.013257113655901095}"
      ]
     },
     "execution_count": 57,
     "metadata": {},
     "output_type": "execute_result"
    }
   ],
   "source": [
    "gs_NB.best_params_"
   ]
  },
  {
   "cell_type": "code",
   "execution_count": 58,
   "id": "50938ef6",
   "metadata": {},
   "outputs": [
    {
     "data": {
      "text/plain": [
       "0.8928813158327846"
      ]
     },
     "execution_count": 58,
     "metadata": {},
     "output_type": "execute_result"
    }
   ],
   "source": [
    "gs_NB.best_score_"
   ]
  },
  {
   "cell_type": "markdown",
   "id": "c9b397a7",
   "metadata": {},
   "source": [
    "###  Creating New data frame to store the NB grid search results for visualization"
   ]
  },
  {
   "cell_type": "code",
   "execution_count": 59,
   "id": "450079b0",
   "metadata": {},
   "outputs": [],
   "source": [
    "results_NB = pd.DataFrame(gs_NB.cv_results_['params'])\n",
    "results_NB['test_score'] = gs_NB.cv_results_['mean_test_score']"
   ]
  },
  {
   "cell_type": "markdown",
   "id": "6f2bf652",
   "metadata": {},
   "source": [
    "### Fiting the model on 20 features from RFI"
   ]
  },
  {
   "cell_type": "code",
   "execution_count": 60,
   "id": "54632b02",
   "metadata": {
    "scrolled": true
   },
   "outputs": [
    {
     "name": "stdout",
     "output_type": "stream",
     "text": [
      "Fitting 5 folds for each of 50 candidates, totalling 250 fits\n"
     ]
    },
    {
     "data": {
      "text/plain": [
       "GridSearchCV(cv=StratifiedKFold(n_splits=5, random_state=999, shuffle=True),\n",
       "             estimator=GaussianNB(),\n",
       "             param_grid={'var_smoothing': array([10.        ,  8.68511374,  7.54312006,  6.55128557,  5.68986603,\n",
       "        4.94171336,  4.29193426,  3.72759372,  3.23745754,  2.8117687 ,\n",
       "        2.44205309,  2.12095089,  1.84206997,  1.59985872,  1.38949549,\n",
       "        1.20679264,  1.04811313,  0.91029818,  0.79060432,  0.68664885,\n",
       "        0.59636233,  0.51794747,  0.44984327,  0.39069399,  0.33932218,\n",
       "        0.29470517,  0.25595479,  0.22229965,  0.19306977,  0.16768329,\n",
       "        0.14563485,  0.12648552,  0.10985411,  0.09540955,  0.08286428,\n",
       "        0.07196857,  0.06250552,  0.05428675,  0.04714866,  0.04094915,\n",
       "        0.0355648 ,  0.03088844,  0.02682696,  0.02329952,  0.0202359 ,\n",
       "        0.01757511,  0.01526418,  0.01325711,  0.01151395,  0.01      ])},\n",
       "             scoring='roc_auc', verbose=1)"
      ]
     },
     "execution_count": 60,
     "metadata": {},
     "output_type": "execute_result"
    }
   ],
   "source": [
    "D_Train_fs_transformed_2 = PowerTransformer().fit_transform(D_Train_fs_2)\n",
    "gs_NB.fit(D_Train_fs_transformed_2, t_train)"
   ]
  },
  {
   "cell_type": "markdown",
   "id": "ed1b0570",
   "metadata": {},
   "source": [
    "### Retrieving the best parameters and score for the model with 20 features"
   ]
  },
  {
   "cell_type": "code",
   "execution_count": 61,
   "id": "26cc4fdc",
   "metadata": {},
   "outputs": [
    {
     "data": {
      "text/plain": [
       "{'var_smoothing': 10.0}"
      ]
     },
     "execution_count": 61,
     "metadata": {},
     "output_type": "execute_result"
    }
   ],
   "source": [
    "gs_NB.best_params_"
   ]
  },
  {
   "cell_type": "code",
   "execution_count": 62,
   "id": "d57f73b5",
   "metadata": {},
   "outputs": [
    {
     "data": {
      "text/plain": [
       "0.8859759024577574"
      ]
     },
     "execution_count": 62,
     "metadata": {},
     "output_type": "execute_result"
    }
   ],
   "source": [
    "gs_NB.best_score_"
   ]
  },
  {
   "cell_type": "markdown",
   "id": "423c0046",
   "metadata": {},
   "source": [
    "### Fitting the model on whole set of features"
   ]
  },
  {
   "cell_type": "code",
   "execution_count": 63,
   "id": "721fff43",
   "metadata": {
    "scrolled": true
   },
   "outputs": [
    {
     "name": "stdout",
     "output_type": "stream",
     "text": [
      "Fitting 5 folds for each of 50 candidates, totalling 250 fits\n"
     ]
    },
    {
     "data": {
      "text/plain": [
       "GridSearchCV(cv=StratifiedKFold(n_splits=5, random_state=999, shuffle=True),\n",
       "             estimator=GaussianNB(),\n",
       "             param_grid={'var_smoothing': array([10.        ,  8.68511374,  7.54312006,  6.55128557,  5.68986603,\n",
       "        4.94171336,  4.29193426,  3.72759372,  3.23745754,  2.8117687 ,\n",
       "        2.44205309,  2.12095089,  1.84206997,  1.59985872,  1.38949549,\n",
       "        1.20679264,  1.04811313,  0.91029818,  0.79060432,  0.68664885,\n",
       "        0.59636233,  0.51794747,  0.44984327,  0.39069399,  0.33932218,\n",
       "        0.29470517,  0.25595479,  0.22229965,  0.19306977,  0.16768329,\n",
       "        0.14563485,  0.12648552,  0.10985411,  0.09540955,  0.08286428,\n",
       "        0.07196857,  0.06250552,  0.05428675,  0.04714866,  0.04094915,\n",
       "        0.0355648 ,  0.03088844,  0.02682696,  0.02329952,  0.0202359 ,\n",
       "        0.01757511,  0.01526418,  0.01325711,  0.01151395,  0.01      ])},\n",
       "             scoring='roc_auc', verbose=1)"
      ]
     },
     "execution_count": 63,
     "metadata": {},
     "output_type": "execute_result"
    }
   ],
   "source": [
    "D_Train_fs_transformed_full = PowerTransformer().fit_transform(D_train)\n",
    "gs_NB.fit(D_train, t_train)"
   ]
  },
  {
   "cell_type": "markdown",
   "id": "1b8addd0",
   "metadata": {},
   "source": [
    "### Best parameter and score with all the features."
   ]
  },
  {
   "cell_type": "code",
   "execution_count": 64,
   "id": "f5d7e738",
   "metadata": {},
   "outputs": [
    {
     "data": {
      "text/plain": [
       "{'var_smoothing': 1.8420699693267164}"
      ]
     },
     "execution_count": 64,
     "metadata": {},
     "output_type": "execute_result"
    }
   ],
   "source": [
    "gs_NB.best_params_"
   ]
  },
  {
   "cell_type": "code",
   "execution_count": 65,
   "id": "32d17693",
   "metadata": {},
   "outputs": [
    {
     "data": {
      "text/plain": [
       "0.8952206941244241"
      ]
     },
     "execution_count": 65,
     "metadata": {},
     "output_type": "execute_result"
    }
   ],
   "source": [
    "gs_NB.best_score_"
   ]
  },
  {
   "cell_type": "markdown",
   "id": "0c1407df",
   "metadata": {},
   "source": [
    "As the difference between the `hyperparameter combinations` is not really much when conditioned on the number of features selected. Hence, we visualize the results of the grid search corresponding to **10 selected features.**"
   ]
  },
  {
   "cell_type": "markdown",
   "id": "3c90705a",
   "metadata": {},
   "source": [
    "### Showing NB performance across Var Smoothing values 0 to 10"
   ]
  },
  {
   "cell_type": "code",
   "execution_count": 66,
   "id": "4f07bfa3",
   "metadata": {
    "scrolled": false
   },
   "outputs": [
    {
     "data": {
      "image/png": "[encoded data removed]",
      "text/plain": [
       "<Figure size 640x480 with 1 Axes>"
      ]
     },
     "metadata": {
      "image/png": {
       "height": 459,
       "width": 587
      }
     },
     "output_type": "display_data"
    }
   ],
   "source": [
    "plt.plot(results_NB['var_smoothing'], results_NB['test_score'], marker = '.')    \n",
    "plt.xlabel('Var. Smoothing')\n",
    "plt.ylabel(\"Mean CV Score\")\n",
    "plt.title(\"NB Performance Comparison\")\n",
    "plt.show()"
   ]
  },
  {
   "cell_type": "markdown",
   "id": "7980fb4c",
   "metadata": {},
   "source": [
    "## Random Forest Classifier"
   ]
  },
  {
   "cell_type": "code",
   "execution_count": 67,
   "id": "5bd3caa2",
   "metadata": {
    "scrolled": true
   },
   "outputs": [
    {
     "name": "stdout",
     "output_type": "stream",
     "text": [
      "Fitting 5 folds for each of 12 candidates, totalling 60 fits\n"
     ]
    },
    {
     "data": {
      "text/plain": [
       "GridSearchCV(cv=StratifiedKFold(n_splits=5, random_state=999, shuffle=True),\n",
       "             estimator=RandomForestClassifier(random_state=999), n_jobs=-2,\n",
       "             param_grid={'max_depth': [5, 7, 10, 12],\n",
       "                         'n_estimators': [100, 250, 500]},\n",
       "             scoring='roc_auc', verbose=1)"
      ]
     },
     "execution_count": 67,
     "metadata": {},
     "output_type": "execute_result"
    }
   ],
   "source": [
    "from sklearn.naive_bayes import GaussianNB\n",
    "from sklearn.preprocessing import PowerTransformer\n",
    "\n",
    "rf_classifier = RandomForestClassifier(random_state=999)\n",
    "\n",
    "params_RF = {'n_estimators': [100, 250, 500],\n",
    "             'max_depth': [5, 7, 10, 12]}\n",
    "\n",
    "gs_RF = GridSearchCV(estimator=rf_classifier, \n",
    "                     param_grid=params_RF, \n",
    "                     cv=cv_method_train,\n",
    "                     verbose=1,\n",
    "                     n_jobs=-2,\n",
    "                     scoring=scoring_metric)\n",
    "\n",
    "gs_RF.fit(D_Train_fs, t_train)"
   ]
  },
  {
   "cell_type": "markdown",
   "id": "1a1287a0",
   "metadata": {},
   "source": [
    "### Best parameter value with 10 features"
   ]
  },
  {
   "cell_type": "code",
   "execution_count": 68,
   "id": "73de45ef",
   "metadata": {},
   "outputs": [
    {
     "data": {
      "text/plain": [
       "{'max_depth': 5, 'n_estimators': 250}"
      ]
     },
     "execution_count": 68,
     "metadata": {},
     "output_type": "execute_result"
    }
   ],
   "source": [
    "gs_RF.best_params_"
   ]
  },
  {
   "cell_type": "code",
   "execution_count": 69,
   "id": "6282ce38",
   "metadata": {
    "scrolled": true
   },
   "outputs": [
    {
     "data": {
      "text/plain": [
       "0.9099123772492869"
      ]
     },
     "execution_count": 69,
     "metadata": {},
     "output_type": "execute_result"
    }
   ],
   "source": [
    "gs_RF.best_score_"
   ]
  },
  {
   "cell_type": "markdown",
   "id": "0758b4be",
   "metadata": {},
   "source": [
    "### Formatting the results in a dataframe"
   ]
  },
  {
   "cell_type": "code",
   "execution_count": 70,
   "id": "f2e2cb46",
   "metadata": {},
   "outputs": [
    {
     "data": {
      "text/plain": [
       "Index(['max_depth', 'n_estimators', 'test_score'], dtype='object')"
      ]
     },
     "execution_count": 70,
     "metadata": {},
     "output_type": "execute_result"
    }
   ],
   "source": [
    "results_RF = pd.DataFrame(gs_RF.cv_results_['params'])\n",
    "results_RF['test_score'] = gs_RF.cv_results_['mean_test_score']\n",
    "results_RF.columns"
   ]
  },
  {
   "cell_type": "markdown",
   "id": "c3199710",
   "metadata": {},
   "source": [
    "### Fitting the model with 20 features from RFI"
   ]
  },
  {
   "cell_type": "code",
   "execution_count": 71,
   "id": "2503a745",
   "metadata": {
    "scrolled": true
   },
   "outputs": [
    {
     "name": "stdout",
     "output_type": "stream",
     "text": [
      "Fitting 5 folds for each of 12 candidates, totalling 60 fits\n"
     ]
    },
    {
     "data": {
      "text/plain": [
       "GridSearchCV(cv=StratifiedKFold(n_splits=5, random_state=999, shuffle=True),\n",
       "             estimator=RandomForestClassifier(random_state=999), n_jobs=-2,\n",
       "             param_grid={'max_depth': [5, 7, 10, 12],\n",
       "                         'n_estimators': [100, 250, 500]},\n",
       "             scoring='roc_auc', verbose=1)"
      ]
     },
     "execution_count": 71,
     "metadata": {},
     "output_type": "execute_result"
    }
   ],
   "source": [
    "gs_RF.fit(D_Train_fs_2, t_train)"
   ]
  },
  {
   "cell_type": "markdown",
   "id": "61ca3821",
   "metadata": {},
   "source": [
    "### Retrieving the best score and parameters for 20 features"
   ]
  },
  {
   "cell_type": "code",
   "execution_count": 72,
   "id": "39c837f0",
   "metadata": {},
   "outputs": [
    {
     "data": {
      "text/plain": [
       "{'max_depth': 10, 'n_estimators': 250}"
      ]
     },
     "execution_count": 72,
     "metadata": {},
     "output_type": "execute_result"
    }
   ],
   "source": [
    "gs_RF.best_params_"
   ]
  },
  {
   "cell_type": "code",
   "execution_count": 73,
   "id": "6779cc17",
   "metadata": {
    "scrolled": true
   },
   "outputs": [
    {
     "data": {
      "text/plain": [
       "0.9084859145271013"
      ]
     },
     "execution_count": 73,
     "metadata": {},
     "output_type": "execute_result"
    }
   ],
   "source": [
    "gs_RF.best_score_"
   ]
  },
  {
   "cell_type": "markdown",
   "id": "cede38a6",
   "metadata": {},
   "source": [
    "### Fitting the model on whole set of features and retrieving the best parameters and score "
   ]
  },
  {
   "cell_type": "code",
   "execution_count": 74,
   "id": "1d0d493f",
   "metadata": {},
   "outputs": [
    {
     "name": "stdout",
     "output_type": "stream",
     "text": [
      "Fitting 5 folds for each of 12 candidates, totalling 60 fits\n"
     ]
    },
    {
     "data": {
      "text/plain": [
       "GridSearchCV(cv=StratifiedKFold(n_splits=5, random_state=999, shuffle=True),\n",
       "             estimator=RandomForestClassifier(random_state=999), n_jobs=-2,\n",
       "             param_grid={'max_depth': [5, 7, 10, 12],\n",
       "                         'n_estimators': [100, 250, 500]},\n",
       "             scoring='roc_auc', verbose=1)"
      ]
     },
     "execution_count": 74,
     "metadata": {},
     "output_type": "execute_result"
    }
   ],
   "source": [
    "gs_RF.fit(D_train, t_train)"
   ]
  },
  {
   "cell_type": "code",
   "execution_count": 75,
   "id": "78bbf05c",
   "metadata": {},
   "outputs": [
    {
     "data": {
      "text/plain": [
       "{'max_depth': 7, 'n_estimators': 250}"
      ]
     },
     "execution_count": 75,
     "metadata": {},
     "output_type": "execute_result"
    }
   ],
   "source": [
    "gs_RF.best_params_"
   ]
  },
  {
   "cell_type": "code",
   "execution_count": 76,
   "id": "7e03a084",
   "metadata": {},
   "outputs": [
    {
     "data": {
      "text/plain": [
       "0.9075977719716919"
      ]
     },
     "execution_count": 76,
     "metadata": {},
     "output_type": "execute_result"
    }
   ],
   "source": [
    "gs_RF.best_score_"
   ]
  },
  {
   "cell_type": "markdown",
   "id": "ecce577a",
   "metadata": {},
   "source": [
    "As the difference between the `hyperparameter combinations` is not really much when conditioned on the number of features selected. Hence, we visualize the results of the grid search corresponding to **10 selected features.**"
   ]
  },
  {
   "cell_type": "markdown",
   "id": "c7e9122b",
   "metadata": {},
   "source": [
    "### Comparison of RF perform for different values of estimator"
   ]
  },
  {
   "cell_type": "code",
   "execution_count": 77,
   "id": "6649a71d",
   "metadata": {},
   "outputs": [
    {
     "data": {
      "image/png": "[encoded data removed]",
      "text/plain": [
       "<Figure size 640x480 with 1 Axes>"
      ]
     },
     "metadata": {
      "image/png": {
       "height": 459,
       "width": 587
      }
     },
     "output_type": "display_data"
    }
   ],
   "source": [
    "for i in results_RF['n_estimators'].unique():\n",
    "    temp = results_RF[results_RF['n_estimators'] == i]\n",
    "    plt.plot(temp['max_depth'], temp['test_score'], marker = '.', label = 'estimators: ' + str(i))\n",
    "    \n",
    "plt.legend()\n",
    "plt.xlabel('Max Depth')\n",
    "plt.ylabel(\"Mean CV Score\")\n",
    "plt.title(\"RF Performance Comparison\")\n",
    "plt.show()"
   ]
  },
  {
   "cell_type": "markdown",
   "id": "9357b71c",
   "metadata": {},
   "source": [
    "## Support Vector Machines (SVM) model "
   ]
  },
  {
   "cell_type": "code",
   "execution_count": 78,
   "id": "10c8d5b5",
   "metadata": {},
   "outputs": [],
   "source": [
    "from sklearn.svm import SVC\n",
    "from sklearn.model_selection import GridSearchCV\n",
    "\n",
    "# Create an SVM classifier\n",
    "svm_classifier = SVC(random_state=999)"
   ]
  },
  {
   "cell_type": "code",
   "execution_count": 79,
   "id": "e4ef29a0",
   "metadata": {},
   "outputs": [],
   "source": [
    "# Define the hyperparameter grid for tuning\n",
    "params_SVM = {\n",
    "    'C': [0.1, 1, 10],\n",
    "    'kernel': ['linear', 'rbf'],\n",
    "    'gamma': ['scale', 'auto']\n",
    "}"
   ]
  },
  {
   "cell_type": "code",
   "execution_count": 80,
   "id": "1b9a9979",
   "metadata": {},
   "outputs": [],
   "source": [
    "# Define the cross-validation method for training\n",
    "cv_method_train = StratifiedKFold(n_splits=5, random_state=999, shuffle=True)"
   ]
  },
  {
   "cell_type": "code",
   "execution_count": 81,
   "id": "27c03757",
   "metadata": {},
   "outputs": [],
   "source": [
    "# Perform grid search cross-validation to find the best hyperparameters\n",
    "gs_SVM = GridSearchCV(estimator=svm_classifier,\n",
    "                      param_grid=params_SVM,\n",
    "                      cv=cv_method_train,\n",
    "                      verbose=1,\n",
    "                      n_jobs=-2,\n",
    "                      scoring=scoring_metric)"
   ]
  },
  {
   "cell_type": "markdown",
   "id": "dbfcd12f",
   "metadata": {},
   "source": [
    "### Fitting the model on 10 features and retrieving best parameters and score for the same"
   ]
  },
  {
   "cell_type": "code",
   "execution_count": 82,
   "id": "c6c55d24",
   "metadata": {},
   "outputs": [
    {
     "name": "stdout",
     "output_type": "stream",
     "text": [
      "Fitting 5 folds for each of 12 candidates, totalling 60 fits\n"
     ]
    },
    {
     "data": {
      "text/plain": [
       "GridSearchCV(cv=StratifiedKFold(n_splits=5, random_state=999, shuffle=True),\n",
       "             estimator=SVC(random_state=999), n_jobs=-2,\n",
       "             param_grid={'C': [0.1, 1, 10], 'gamma': ['scale', 'auto'],\n",
       "                         'kernel': ['linear', 'rbf']},\n",
       "             scoring='roc_auc', verbose=1)"
      ]
     },
     "execution_count": 82,
     "metadata": {},
     "output_type": "execute_result"
    }
   ],
   "source": [
    "gs_SVM.fit(D_Train_fs, t_train)\n"
   ]
  },
  {
   "cell_type": "code",
   "execution_count": 83,
   "id": "48eaeccd",
   "metadata": {
    "scrolled": false
   },
   "outputs": [
    {
     "name": "stdout",
     "output_type": "stream",
     "text": [
      "Best parameter value:\n",
      "{'C': 1, 'gamma': 'scale', 'kernel': 'rbf'}\n",
      "Best score:\n",
      "0.9043454781105991\n"
     ]
    }
   ],
   "source": [
    "# Print the best parameter values and the corresponding score\n",
    "print(\"Best parameter value:\")\n",
    "print(gs_SVM.best_params_)\n",
    "print(\"Best score:\")\n",
    "print(gs_SVM.best_score_)\n"
   ]
  },
  {
   "cell_type": "code",
   "execution_count": 84,
   "id": "70a5fbcd",
   "metadata": {},
   "outputs": [
    {
     "data": {
      "text/plain": [
       "Index(['C', 'gamma', 'kernel', 'test_score'], dtype='object')"
      ]
     },
     "execution_count": 84,
     "metadata": {},
     "output_type": "execute_result"
    }
   ],
   "source": [
    "results_SVM = pd.DataFrame(gs_SVM.cv_results_['params'])\n",
    "results_SVM['test_score'] = gs_SVM.cv_results_['mean_test_score']\n",
    "results_SVM.columns"
   ]
  },
  {
   "cell_type": "code",
   "execution_count": 85,
   "id": "fdd9f4e7",
   "metadata": {},
   "outputs": [
    {
     "data": {
      "text/html": [
       "<div>\n",
       "<style scoped>\n",
       "    .dataframe tbody tr th:only-of-type {\n",
       "        vertical-align: middle;\n",
       "    }\n",
       "\n",
       "    .dataframe tbody tr th {\n",
       "        vertical-align: top;\n",
       "    }\n",
       "\n",
       "    .dataframe thead th {\n",
       "        text-align: right;\n",
       "    }\n",
       "</style>\n",
       "<table border=\"1\" class=\"dataframe\">\n",
       "  <thead>\n",
       "    <tr style=\"text-align: right;\">\n",
       "      <th></th>\n",
       "      <th>C</th>\n",
       "      <th>gamma</th>\n",
       "      <th>kernel</th>\n",
       "      <th>test_score</th>\n",
       "    </tr>\n",
       "  </thead>\n",
       "  <tbody>\n",
       "    <tr>\n",
       "      <th>0</th>\n",
       "      <td>0.1</td>\n",
       "      <td>scale</td>\n",
       "      <td>linear</td>\n",
       "      <td>0.887212</td>\n",
       "    </tr>\n",
       "    <tr>\n",
       "      <th>1</th>\n",
       "      <td>0.1</td>\n",
       "      <td>scale</td>\n",
       "      <td>rbf</td>\n",
       "      <td>0.897167</td>\n",
       "    </tr>\n",
       "    <tr>\n",
       "      <th>2</th>\n",
       "      <td>0.1</td>\n",
       "      <td>auto</td>\n",
       "      <td>linear</td>\n",
       "      <td>0.887212</td>\n",
       "    </tr>\n",
       "    <tr>\n",
       "      <th>3</th>\n",
       "      <td>0.1</td>\n",
       "      <td>auto</td>\n",
       "      <td>rbf</td>\n",
       "      <td>0.894439</td>\n",
       "    </tr>\n",
       "    <tr>\n",
       "      <th>4</th>\n",
       "      <td>1.0</td>\n",
       "      <td>scale</td>\n",
       "      <td>linear</td>\n",
       "      <td>0.868122</td>\n",
       "    </tr>\n",
       "    <tr>\n",
       "      <th>5</th>\n",
       "      <td>1.0</td>\n",
       "      <td>scale</td>\n",
       "      <td>rbf</td>\n",
       "      <td>0.904345</td>\n",
       "    </tr>\n",
       "    <tr>\n",
       "      <th>6</th>\n",
       "      <td>1.0</td>\n",
       "      <td>auto</td>\n",
       "      <td>linear</td>\n",
       "      <td>0.868122</td>\n",
       "    </tr>\n",
       "    <tr>\n",
       "      <th>7</th>\n",
       "      <td>1.0</td>\n",
       "      <td>auto</td>\n",
       "      <td>rbf</td>\n",
       "      <td>0.897134</td>\n",
       "    </tr>\n",
       "    <tr>\n",
       "      <th>8</th>\n",
       "      <td>10.0</td>\n",
       "      <td>scale</td>\n",
       "      <td>linear</td>\n",
       "      <td>0.857083</td>\n",
       "    </tr>\n",
       "    <tr>\n",
       "      <th>9</th>\n",
       "      <td>10.0</td>\n",
       "      <td>scale</td>\n",
       "      <td>rbf</td>\n",
       "      <td>0.860810</td>\n",
       "    </tr>\n",
       "    <tr>\n",
       "      <th>10</th>\n",
       "      <td>10.0</td>\n",
       "      <td>auto</td>\n",
       "      <td>linear</td>\n",
       "      <td>0.857083</td>\n",
       "    </tr>\n",
       "    <tr>\n",
       "      <th>11</th>\n",
       "      <td>10.0</td>\n",
       "      <td>auto</td>\n",
       "      <td>rbf</td>\n",
       "      <td>0.900924</td>\n",
       "    </tr>\n",
       "  </tbody>\n",
       "</table>\n",
       "</div>"
      ],
      "text/plain": [
       "       C  gamma  kernel  test_score\n",
       "0    0.1  scale  linear    0.887212\n",
       "1    0.1  scale     rbf    0.897167\n",
       "2    0.1   auto  linear    0.887212\n",
       "3    0.1   auto     rbf    0.894439\n",
       "4    1.0  scale  linear    0.868122\n",
       "5    1.0  scale     rbf    0.904345\n",
       "6    1.0   auto  linear    0.868122\n",
       "7    1.0   auto     rbf    0.897134\n",
       "8   10.0  scale  linear    0.857083\n",
       "9   10.0  scale     rbf    0.860810\n",
       "10  10.0   auto  linear    0.857083\n",
       "11  10.0   auto     rbf    0.900924"
      ]
     },
     "execution_count": 85,
     "metadata": {},
     "output_type": "execute_result"
    }
   ],
   "source": [
    "results_SVM"
   ]
  },
  {
   "cell_type": "markdown",
   "id": "8e19784b",
   "metadata": {},
   "source": [
    "### Fitting the model on 20 features and retrieving the best parameters and score for the same."
   ]
  },
  {
   "cell_type": "code",
   "execution_count": 86,
   "id": "9881352e",
   "metadata": {},
   "outputs": [
    {
     "name": "stdout",
     "output_type": "stream",
     "text": [
      "Fitting 5 folds for each of 12 candidates, totalling 60 fits\n"
     ]
    },
    {
     "data": {
      "text/plain": [
       "GridSearchCV(cv=StratifiedKFold(n_splits=5, random_state=999, shuffle=True),\n",
       "             estimator=SVC(random_state=999), n_jobs=-2,\n",
       "             param_grid={'C': [0.1, 1, 10], 'gamma': ['scale', 'auto'],\n",
       "                         'kernel': ['linear', 'rbf']},\n",
       "             scoring='roc_auc', verbose=1)"
      ]
     },
     "execution_count": 86,
     "metadata": {},
     "output_type": "execute_result"
    }
   ],
   "source": [
    "gs_SVM.fit(D_Train_fs_2, t_train)"
   ]
  },
  {
   "cell_type": "code",
   "execution_count": 87,
   "id": "5a2cc628",
   "metadata": {},
   "outputs": [
    {
     "data": {
      "text/plain": [
       "{'C': 0.1, 'gamma': 'scale', 'kernel': 'rbf'}"
      ]
     },
     "execution_count": 87,
     "metadata": {},
     "output_type": "execute_result"
    }
   ],
   "source": [
    "gs_SVM.best_params_"
   ]
  },
  {
   "cell_type": "code",
   "execution_count": 88,
   "id": "e2a293cb",
   "metadata": {
    "scrolled": true
   },
   "outputs": [
    {
     "data": {
      "text/plain": [
       "0.9042254704301076"
      ]
     },
     "execution_count": 88,
     "metadata": {},
     "output_type": "execute_result"
    }
   ],
   "source": [
    "gs_SVM.best_score_"
   ]
  },
  {
   "cell_type": "markdown",
   "id": "267fb414",
   "metadata": {},
   "source": [
    "### Fitting the model on whole set of features and retrieving the best parameters and score for the same."
   ]
  },
  {
   "cell_type": "code",
   "execution_count": 89,
   "id": "2ea679c6",
   "metadata": {
    "scrolled": true
   },
   "outputs": [
    {
     "name": "stdout",
     "output_type": "stream",
     "text": [
      "Fitting 5 folds for each of 12 candidates, totalling 60 fits\n"
     ]
    },
    {
     "data": {
      "text/plain": [
       "GridSearchCV(cv=StratifiedKFold(n_splits=5, random_state=999, shuffle=True),\n",
       "             estimator=SVC(random_state=999), n_jobs=-2,\n",
       "             param_grid={'C': [0.1, 1, 10], 'gamma': ['scale', 'auto'],\n",
       "                         'kernel': ['linear', 'rbf']},\n",
       "             scoring='roc_auc', verbose=1)"
      ]
     },
     "execution_count": 89,
     "metadata": {},
     "output_type": "execute_result"
    }
   ],
   "source": [
    "gs_SVM.fit(D_train, t_train)"
   ]
  },
  {
   "cell_type": "code",
   "execution_count": 90,
   "id": "748f1e41",
   "metadata": {},
   "outputs": [
    {
     "data": {
      "text/plain": [
       "{'C': 0.1, 'gamma': 'scale', 'kernel': 'rbf'}"
      ]
     },
     "execution_count": 90,
     "metadata": {},
     "output_type": "execute_result"
    }
   ],
   "source": [
    "gs_SVM.best_params_"
   ]
  },
  {
   "cell_type": "code",
   "execution_count": 91,
   "id": "56960577",
   "metadata": {},
   "outputs": [
    {
     "data": {
      "text/plain": [
       "0.9063029748189597"
      ]
     },
     "execution_count": 91,
     "metadata": {},
     "output_type": "execute_result"
    }
   ],
   "source": [
    "gs_SVM.best_score_"
   ]
  },
  {
   "cell_type": "markdown",
   "id": "cdd7c072",
   "metadata": {},
   "source": [
    "As the difference between the `hyperparameter combinations` is not really much when conditioned on the number of features selected. Hence, we visualize the results of the grid search corresponding to **10 selected features.**"
   ]
  },
  {
   "cell_type": "code",
   "execution_count": 92,
   "id": "6762806a",
   "metadata": {},
   "outputs": [],
   "source": [
    "# Define the cross-validation method for testing\n",
    "cv_method_test = StratifiedKFold(n_splits=5, random_state=999, shuffle=True)"
   ]
  },
  {
   "cell_type": "code",
   "execution_count": 93,
   "id": "31643526",
   "metadata": {
    "scrolled": true
   },
   "outputs": [
    {
     "data": {
      "image/png": "[encoded data removed]",
      "text/plain": [
       "<Figure size 640x480 with 1 Axes>"
      ]
     },
     "metadata": {
      "image/png": {
       "height": 459,
       "width": 578
      }
     },
     "output_type": "display_data"
    }
   ],
   "source": [
    "for i in results_SVM['kernel'].unique():\n",
    "    temp = results_SVM[results_SVM['kernel'] == i]\n",
    "    plt.plot(temp['C'], temp['test_score'], marker='.', label='Kernel: ' + str(i))\n",
    "\n",
    "plt.legend()\n",
    "plt.xlabel('C')\n",
    "plt.ylabel('Mean CV Score')\n",
    "plt.title('SVM Performance Comparison')\n",
    "plt.show()\n"
   ]
  },
  {
   "cell_type": "markdown",
   "id": "819188d6",
   "metadata": {},
   "source": [
    "## Model performance comparison"
   ]
  },
  {
   "cell_type": "markdown",
   "id": "2b23efb5",
   "metadata": {},
   "source": [
    "We have trained our whole dataset with the best set of hyperparamaters and 10 best features which were derived using feature selection.\n",
    "We would now be fitting each tuned classifier on the test data in a cross-validated fashion to identify the best classifier based on the mean of cross validation score from each classifier.\n",
    "We then perform pairwise t-tests to determine if any difference between the performance of any two (tuned) classifiers is statistically significant.A 5 fold stratified cross validation is performed on each classifier.\n",
    "After that, we conduct  paired t-test for the AUC score between the following (tuned) classifier combinations:\n",
    "\n",
    "+ RF vs. NB\n",
    "+ RF vs DT\n",
    "+ RF vs KNN\n",
    "+ RF vs SVM\n",
    "+ NB vs DT\n",
    "+ NB vs KNN\n",
    "+ NB vs SVM\n",
    "+ DT vs KNN\n",
    "+ DT vs SVM\n",
    "+ KNN vs SVM\n",
    "\n"
   ]
  },
  {
   "cell_type": "code",
   "execution_count": 94,
   "id": "306e103d",
   "metadata": {},
   "outputs": [],
   "source": [
    "from sklearn.model_selection import cross_val_score\n",
    "cv_method_ttest = StratifiedKFold(n_splits=5, shuffle=True, random_state=999)"
   ]
  },
  {
   "cell_type": "code",
   "execution_count": 95,
   "id": "fb935d1c",
   "metadata": {},
   "outputs": [
    {
     "data": {
      "text/plain": [
       "0.900783621140764"
      ]
     },
     "execution_count": 95,
     "metadata": {},
     "output_type": "execute_result"
    }
   ],
   "source": [
    "cv_results_KNN = cross_val_score(estimator=gs_KNN.best_estimator_,\n",
    "                                 X=D_Test_fs,\n",
    "                                 y=t_test, \n",
    "                                 cv=cv_method_ttest, \n",
    "                                 scoring='roc_auc')\n",
    "cv_results_KNN.mean()"
   ]
  },
  {
   "cell_type": "code",
   "execution_count": 96,
   "id": "7fd2721e",
   "metadata": {},
   "outputs": [
    {
     "data": {
      "text/plain": [
       "0.8732901622187337"
      ]
     },
     "execution_count": 96,
     "metadata": {},
     "output_type": "execute_result"
    }
   ],
   "source": [
    "cv_results_DT = cross_val_score(estimator=gs_DT.best_estimator_,\n",
    "                                 X=D_Test_fs,\n",
    "                                 y=t_test, \n",
    "                                 cv=cv_method_ttest, \n",
    "                                 scoring='roc_auc')\n",
    "cv_results_DT.mean()"
   ]
  },
  {
   "cell_type": "code",
   "execution_count": 97,
   "id": "829ba8da",
   "metadata": {},
   "outputs": [
    {
     "data": {
      "text/plain": [
       "0.8819570905285191"
      ]
     },
     "execution_count": 97,
     "metadata": {},
     "output_type": "execute_result"
    }
   ],
   "source": [
    "D_Test_fs_transformed = PowerTransformer().fit_transform(D_Test_fs)\n",
    "\n",
    "cv_results_NB = cross_val_score(estimator=gs_NB.best_estimator_,\n",
    "                                 X=D_Test_fs_transformed,\n",
    "                                 y=t_test, \n",
    "                                 cv=cv_method_ttest, \n",
    "                                 scoring='roc_auc')\n",
    "cv_results_NB.mean()"
   ]
  },
  {
   "cell_type": "code",
   "execution_count": 98,
   "id": "af9e79e9",
   "metadata": {},
   "outputs": [
    {
     "data": {
      "text/plain": [
       "0.9054578754578755"
      ]
     },
     "execution_count": 98,
     "metadata": {},
     "output_type": "execute_result"
    }
   ],
   "source": [
    "cv_results_RF = cross_val_score(estimator=gs_RF.best_estimator_,\n",
    "                                 X=D_Test_fs,\n",
    "                                 y=t_test, \n",
    "                                 cv=cv_method_ttest, \n",
    "                                 n_jobs=-2,\n",
    "                                 scoring='roc_auc')\n",
    "cv_results_RF.mean()"
   ]
  },
  {
   "cell_type": "code",
   "execution_count": 99,
   "id": "9e079e95",
   "metadata": {},
   "outputs": [
    {
     "data": {
      "text/plain": [
       "0.902721088435374"
      ]
     },
     "execution_count": 99,
     "metadata": {},
     "output_type": "execute_result"
    }
   ],
   "source": [
    "cv_results_SVM = cross_val_score(estimator=gs_SVM.best_estimator_,\n",
    "                                 X=D_Test_fs,\n",
    "                                 y=t_test, \n",
    "                                 cv=cv_method_ttest, \n",
    "                                 n_jobs=-2,\n",
    "                                 scoring='roc_auc')\n",
    "cv_results_SVM.mean()"
   ]
  },
  {
   "cell_type": "code",
   "execution_count": 100,
   "id": "f75b268b",
   "metadata": {
    "scrolled": true
   },
   "outputs": [
    {
     "name": "stdout",
     "output_type": "stream",
     "text": [
      "Ttest_relResult(statistic=0.3067386986008622, pvalue=0.7743468104027402)\n",
      "Ttest_relResult(statistic=1.5625548588711036, pvalue=0.19319139412329528)\n",
      "Ttest_relResult(statistic=0.8262982759280619, pvalue=0.45507189716775637)\n",
      "Ttest_relResult(statistic=0.17157776914729064, pvalue=0.8720998509915238)\n"
     ]
    }
   ],
   "source": [
    "from scipy import stats\n",
    "print(stats.ttest_rel(cv_results_RF, cv_results_KNN))\n",
    "print(stats.ttest_rel(cv_results_RF, cv_results_DT))\n",
    "print(stats.ttest_rel(cv_results_RF, cv_results_NB))\n",
    "print(stats.ttest_rel(cv_results_RF, cv_results_SVM))"
   ]
  },
  {
   "cell_type": "markdown",
   "id": "87954896",
   "metadata": {},
   "source": [
    "From the above cross validation, we could see that Random forest classifier with fine tuned parameters performed better than the others with AUC score 0.905.\n",
    "SVM comes second with 0.902 ,followed by KNN, NB and DT repectively.But, we could not see a statistical difference among the classifiers . This could mean that all the 5 classifiers have performed in a similar manner\n",
    "Hence, we are depending on the following metrics to classify the most suited algorithm for our problem.\n",
    "+ Accuracy\n",
    "+ Precision\n",
    "+ Recall\n",
    "+ F1 Score (the harmonic average of precision and recall)\n",
    "+ Confusion Matrix"
   ]
  },
  {
   "cell_type": "markdown",
   "id": "7417b959",
   "metadata": {},
   "source": [
    "### Evaluate model's performace on test data"
   ]
  },
  {
   "cell_type": "code",
   "execution_count": 101,
   "id": "f5f75eb4",
   "metadata": {},
   "outputs": [],
   "source": [
    "pred_KNN = gs_KNN.predict(D_test)"
   ]
  },
  {
   "cell_type": "code",
   "execution_count": 102,
   "id": "fdc0a0c7",
   "metadata": {},
   "outputs": [],
   "source": [
    "D_Test_transformed = PowerTransformer().fit_transform(D_test)\n",
    "pred_NB = gs_NB.predict(D_Test_transformed)"
   ]
  },
  {
   "cell_type": "code",
   "execution_count": 103,
   "id": "d0f0e909",
   "metadata": {},
   "outputs": [],
   "source": [
    "pred_DT = gs_DT.predict(D_test)"
   ]
  },
  {
   "cell_type": "code",
   "execution_count": 104,
   "id": "cc917405",
   "metadata": {},
   "outputs": [],
   "source": [
    "pred_RF=gs_RF.predict(D_test)"
   ]
  },
  {
   "cell_type": "code",
   "execution_count": 105,
   "id": "fadb64c0",
   "metadata": {},
   "outputs": [],
   "source": [
    "pred_SVM = gs_SVM.predict(D_test)"
   ]
  },
  {
   "cell_type": "code",
   "execution_count": 106,
   "id": "f5a9bcbc",
   "metadata": {
    "scrolled": true
   },
   "outputs": [
    {
     "name": "stdout",
     "output_type": "stream",
     "text": [
      "\n",
      "Classification report for K-Nearest Neighbor\n",
      "              precision    recall  f1-score   support\n",
      "\n",
      "           0       0.83      0.91      0.87       104\n",
      "           1       0.84      0.72      0.78        68\n",
      "\n",
      "    accuracy                           0.84       172\n",
      "   macro avg       0.84      0.82      0.82       172\n",
      "weighted avg       0.84      0.84      0.83       172\n",
      "\n"
     ]
    }
   ],
   "source": [
    "from sklearn import metrics\n",
    "print(\"\\nClassification report for K-Nearest Neighbor\") \n",
    "print(metrics.classification_report(t_test, pred_KNN))"
   ]
  },
  {
   "cell_type": "code",
   "execution_count": 107,
   "id": "e5816bf5",
   "metadata": {},
   "outputs": [
    {
     "name": "stdout",
     "output_type": "stream",
     "text": [
      "\n",
      "Classification report for Naive Bayes\n",
      "              precision    recall  f1-score   support\n",
      "\n",
      "           0       0.80      0.94      0.87       104\n",
      "           1       0.88      0.65      0.75        68\n",
      "\n",
      "    accuracy                           0.83       172\n",
      "   macro avg       0.84      0.79      0.81       172\n",
      "weighted avg       0.83      0.83      0.82       172\n",
      "\n"
     ]
    }
   ],
   "source": [
    "print(\"\\nClassification report for Naive Bayes\") \n",
    "print(metrics.classification_report(t_test, pred_NB))"
   ]
  },
  {
   "cell_type": "code",
   "execution_count": 108,
   "id": "503f45bd",
   "metadata": {},
   "outputs": [
    {
     "name": "stdout",
     "output_type": "stream",
     "text": [
      "\n",
      "Classification report for Decision Tree\n",
      "              precision    recall  f1-score   support\n",
      "\n",
      "           0       0.83      0.88      0.86       104\n",
      "           1       0.80      0.72      0.76        68\n",
      "\n",
      "    accuracy                           0.82       172\n",
      "   macro avg       0.82      0.80      0.81       172\n",
      "weighted avg       0.82      0.82      0.82       172\n",
      "\n"
     ]
    }
   ],
   "source": [
    "print(\"\\nClassification report for Decision Tree\") \n",
    "print(metrics.classification_report(t_test, pred_DT))"
   ]
  },
  {
   "cell_type": "code",
   "execution_count": 109,
   "id": "7e5d56de",
   "metadata": {},
   "outputs": [
    {
     "name": "stdout",
     "output_type": "stream",
     "text": [
      "\n",
      "Classification report for Random Forest\n",
      "              precision    recall  f1-score   support\n",
      "\n",
      "           0       0.87      0.92      0.90       104\n",
      "           1       0.87      0.79      0.83        68\n",
      "\n",
      "    accuracy                           0.87       172\n",
      "   macro avg       0.87      0.86      0.86       172\n",
      "weighted avg       0.87      0.87      0.87       172\n",
      "\n"
     ]
    }
   ],
   "source": [
    "print(\"\\nClassification report for Random Forest\") \n",
    "print(metrics.classification_report(t_test, pred_RF))"
   ]
  },
  {
   "cell_type": "code",
   "execution_count": 110,
   "id": "9a728ef9",
   "metadata": {},
   "outputs": [
    {
     "name": "stdout",
     "output_type": "stream",
     "text": [
      "\n",
      "Classification report for SVM\n",
      "              precision    recall  f1-score   support\n",
      "\n",
      "           0       0.89      0.88      0.89       104\n",
      "           1       0.83      0.84      0.83        68\n",
      "\n",
      "    accuracy                           0.87       172\n",
      "   macro avg       0.86      0.86      0.86       172\n",
      "weighted avg       0.87      0.87      0.87       172\n",
      "\n"
     ]
    }
   ],
   "source": [
    "print(\"\\nClassification report for SVM\")\n",
    "print(metrics.classification_report(t_test, pred_SVM))"
   ]
  },
  {
   "cell_type": "code",
   "execution_count": 111,
   "id": "be5c8f8e",
   "metadata": {},
   "outputs": [
    {
     "name": "stdout",
     "output_type": "stream",
     "text": [
      "\n",
      "Confusion matrix for K-Nearest Neighbor\n",
      "[[95  9]\n",
      " [19 49]]\n",
      "\n",
      "Confusion matrix for Naive Bayes\n",
      "[[98  6]\n",
      " [24 44]]\n",
      "\n",
      "Confusion matrix for Decision Tree\n",
      "[[92 12]\n",
      " [19 49]]\n",
      "\n",
      "Confusion matrix for Random Forest\n",
      "[[96  8]\n",
      " [14 54]]\n",
      "\n",
      "Confusion matrix for SVM\n",
      "[[92 12]\n",
      " [11 57]]\n"
     ]
    }
   ],
   "source": [
    "from sklearn import metrics\n",
    "print(\"\\nConfusion matrix for K-Nearest Neighbor\") \n",
    "print(metrics.confusion_matrix(t_test, pred_KNN))\n",
    "print(\"\\nConfusion matrix for Naive Bayes\") \n",
    "print(metrics.confusion_matrix(t_test, pred_NB))\n",
    "print(\"\\nConfusion matrix for Decision Tree\") \n",
    "print(metrics.confusion_matrix(t_test, pred_DT))\n",
    "print(\"\\nConfusion matrix for Random Forest\") \n",
    "print(metrics.confusion_matrix(t_test, pred_RF))\n",
    "print(\"\\nConfusion matrix for SVM\")\n",
    "print(metrics.confusion_matrix(t_test, pred_SVM))"
   ]
  },
  {
   "cell_type": "markdown",
   "id": "455c3daa",
   "metadata": {},
   "source": [
    "From analysing the classification report, we could see that Naive bayes has the highest recall rate followed by Random forest classifier.\n",
    "This is in contrast to what we declared earlier, Random forest as the best classifier on the basis of AUC score."
   ]
  },
  {
   "cell_type": "markdown",
   "id": "f079604e",
   "metadata": {},
   "source": [
    "## Project Summary "
   ]
  },
  {
   "cell_type": "markdown",
   "id": "d656347c",
   "metadata": {},
   "source": [
    "In this project, we utilized the model for data preparation, visualization, and analysis in the Phase 1 report. Based on the feedback we received, we improved the data preprocessing section to better identify and handle errors. In both phases of the project, we employed data visualization and exploration techniques to gain insights from the Credit card approval dataset.\n",
    "\n",
    "In Phase 2, our objective was to enhance the accuracy of the predictive model. We introduced performance evaluation and model comparison using cross-validation and paired t-tests to determine the best model among all. Additionally, we addressed the key limitations of our approach and critiqued its weaknesses. We provided suggestions on how we can potentially improve the models in the future."
   ]
  },
  {
   "cell_type": "markdown",
   "id": "5df4924d",
   "metadata": {},
   "source": [
    "## Critique & Limitations "
   ]
  },
  {
   "cell_type": "markdown",
   "id": "fcf4f037",
   "metadata": {},
   "source": [
    "Our modeling strategy has a few limitations. We require more in-depth analysis regarding the feature selection & ranking process as well as our choices for the hyper-parameter space. \n",
    "\n",
    "We utilized a blanket power transformation on the training data when building the NB, ignoring the dummy features within the dataset. This might partially explain the poor performance of the NB when evaluated on the test set. A potential solution is to build a Gaussian NB and a Bernoulli NB separately on the numerical and dummy descriptive features, respectively. Then we can compute a final prediction by multiplying predictions from each model since NB assumes inter-independence conditioned on the value of the target feature. "
   ]
  },
  {
   "cell_type": "markdown",
   "id": "04be691c",
   "metadata": {},
   "source": [
    "## Summary of Key Findings"
   ]
  },
  {
   "cell_type": "markdown",
   "id": "f02c4f77",
   "metadata": {},
   "source": [
    "We have run our experiment on the whole dataset. We have used 70% for training and 30% for testing. As we saw earlier, there is no statistically significant difference between our 5 models. This could mean that all the models have similar performance. Hence, we could not conclude one model is better than the others based on statistical significance. Considering the model complexity, roc_auc score of each model,interpretatability of the models, we have considered RF as the best model for our problem.  \n",
    "\n",
    "Although RF and SVM have produced a similar score 0.909 and 0.904, we have considered RF as a better classifier due to the volume of our data set, model complexity and ROC_AUC score. Considering ensemble methods built on trees such as RF, would give better prediction score. \n",
    "\n",
    "In the future, when the volume of our dataset increases, we would want our model to classify the samples correctly with high accuracy, less bias and in less time. This can be achieved by using SVM. "
   ]
  },
  {
   "cell_type": "markdown",
   "id": "e8562d1d",
   "metadata": {},
   "source": [
    "## Conclusion"
   ]
  },
  {
   "cell_type": "markdown",
   "id": "e97f814c",
   "metadata": {},
   "source": [
    "The Random Forest model with 10 of the best features selected by Random Forest Importance (RFI) produces the highest cross-validated AUC score on the training data. After evaluating on test data (in a cross-validated fashion), the random forest model performed better than KNN, DT, NB and SVM with respect to AUC. RF has also produced the `second highest AUC score`,classification report and confusion matrix indicated that Random Forest classifier performed better than the other models. "
   ]
  },
  {
   "cell_type": "markdown",
   "id": "51d66f11",
   "metadata": {},
   "source": [
    "## References"
   ]
  },
  {
   "cell_type": "markdown",
   "id": "39c1f74f",
   "metadata": {},
   "source": [
    "Cortinhas, S. (2022, April 25). Credit card approvals (clean data). Kaggle. Retrieved April 9, 2023, from https://www.kaggle.com/datasets/samuelcortinhas/credit-card-approval-clean-data  \n",
    "\n",
    "UCI Machine Learning Repository: Data Sets. (n.d.). Retrieved April 9, 2023, from https://archive.ics.uci.edu/ml/datasets.php  \n",
    "\n",
    "Guyon, I., & Elisseeff, A. (2003). An introduction to variable and feature selection. Journal of machine learning research, 3(Mar), 1157-1182. https://www.jmlr.org/papers/volume3/guyon03a/guyon03a.pdf \n",
    "\n",
    "Sklearn.neighbors.KNeighborsClassifier. (n.d.). Retrieved from https://scikit-learn.org/stable/modules/generated/sklearn.neighbors.KNeighborsClassifier.html  \n",
    "\n",
    "Sklearn.tree.DecisionTreeClassifier. (n.d.). Retrieved from https://scikit-learn.org/stable/modules/generated/sklearn.tree.DecisionTreeClassifier.html "
   ]
  }
 ],
 "metadata": {
  "kernelspec": {
   "display_name": "Python 3 (ipykernel)",
   "language": "python",
   "name": "python3"
  },
  "language_info": {
   "codemirror_mode": {
    "name": "ipython",
    "version": 3
   },
   "file_extension": ".py",
   "mimetype": "text/x-python",
   "name": "python",
   "nbconvert_exporter": "python",
   "pygments_lexer": "ipython3",
   "version": "3.9.13"
  }
 },
 "nbformat": 4,
 "nbformat_minor": 5
}
